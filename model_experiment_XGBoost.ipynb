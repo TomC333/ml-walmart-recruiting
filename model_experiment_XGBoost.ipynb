{
 "cells": [
  {
   "cell_type": "code",
   "execution_count": 2,
   "id": "0d19d132-4e16-4737-9270-9ada15983abd",
   "metadata": {},
   "outputs": [
    {
     "data": {
      "text/html": [
       "<pre style=\"white-space:pre;overflow-x:auto;line-height:normal;font-family:Menlo,'DejaVu Sans Mono',consolas,'Courier New',monospace\">Accessing as TomC333\n",
       "</pre>\n"
      ],
      "text/plain": [
       "Accessing as TomC333\n"
      ]
     },
     "metadata": {},
     "output_type": "display_data"
    },
    {
     "data": {
      "text/html": [
       "<pre style=\"white-space:pre;overflow-x:auto;line-height:normal;font-family:Menlo,'DejaVu Sans Mono',consolas,'Courier New',monospace\">Initialized MLflow to track repo <span style=\"color: #008000; text-decoration-color: #008000\">\"TomC333/ml-walmart-recruiting\"</span>\n",
       "</pre>\n"
      ],
      "text/plain": [
       "Initialized MLflow to track repo \u001b[32m\"TomC333/ml-walmart-recruiting\"\u001b[0m\n"
      ]
     },
     "metadata": {},
     "output_type": "display_data"
    },
    {
     "data": {
      "text/html": [
       "<pre style=\"white-space:pre;overflow-x:auto;line-height:normal;font-family:Menlo,'DejaVu Sans Mono',consolas,'Courier New',monospace\">Repository TomC333/ml-walmart-recruiting initialized!\n",
       "</pre>\n"
      ],
      "text/plain": [
       "Repository TomC333/ml-walmart-recruiting initialized!\n"
      ]
     },
     "metadata": {},
     "output_type": "display_data"
    },
    {
     "name": "stderr",
     "output_type": "stream",
     "text": [
      "2025/08/01 18:57:23 INFO mlflow.tracking.fluent: Experiment with name 'XGBoost_Iterative_Baseline' does not exist. Creating a new experiment.\n"
     ]
    },
    {
     "data": {
      "text/plain": [
       "<Experiment: artifact_location='mlflow-artifacts:/f2383a4b0e2f4b66bea409a00065738a', creation_time=1754060243516, experiment_id='10', last_update_time=1754060243516, lifecycle_stage='active', name='XGBoost_Iterative_Baseline', tags={}>"
      ]
     },
     "execution_count": 2,
     "metadata": {},
     "output_type": "execute_result"
    }
   ],
   "source": [
    "import pandas as pd\n",
    "import xgboost as xgb\n",
    "from sklearn.metrics import mean_absolute_error\n",
    "import mlflow\n",
    "import dagshub\n",
    "\n",
    "dagshub.init(repo_owner='TomC333', repo_name='ml-walmart-recruiting', mlflow=True)\n",
    "mlflow.set_experiment(\"XGBoost_Iterative_Baseline\")"
   ]
  },
  {
   "cell_type": "markdown",
   "id": "73d5e9b8-7d1a-4dda-9ecc-d85759349710",
   "metadata": {},
   "source": [
    "# Load and preprocess data"
   ]
  },
  {
   "cell_type": "code",
   "execution_count": 4,
   "id": "a06ccd53-4109-435e-a396-6a63c72c93a6",
   "metadata": {},
   "outputs": [],
   "source": [
    "features_data = pd.read_csv('data/features.csv')\n",
    "train_data = pd.read_csv('data/train.csv')\n",
    "stores = pd.read_csv('data/stores.csv')\n",
    "\n",
    "df = train_data.merge(features_data, on=['Store', 'Date'], how='inner').merge(stores, on=['Store'], how='inner')\n",
    "\n",
    "if 'IsHoliday_y' in df.columns:\n",
    "    df.drop(['IsHoliday_y'], axis=1, inplace=True)\n",
    "    df.rename(columns={'IsHoliday_x': 'IsHoliday'}, inplace=True)\n",
    "\n",
    "df['Date'] = pd.to_datetime(df['Date'])\n",
    "df = df.sort_values(['Store', 'Dept', 'Date'])\n",
    "df = df[df['Weekly_Sales'] >= 0]"
   ]
  },
  {
   "cell_type": "code",
   "execution_count": 7,
   "id": "2b6f8e6b-2f35-4ca4-979e-c6f2eb235dbc",
   "metadata": {},
   "outputs": [],
   "source": [
    "df=df.sort_values('Date')"
   ]
  },
  {
   "cell_type": "markdown",
   "id": "47c17a53-8708-4cfc-9df6-b667fd1a1221",
   "metadata": {},
   "source": [
    "# Step 0, use a few features"
   ]
  },
  {
   "cell_type": "code",
   "execution_count": 9,
   "id": "4ae27a46-5101-49b0-a7f8-2e1b56eac6c1",
   "metadata": {},
   "outputs": [
    {
     "name": "stdout",
     "output_type": "stream",
     "text": [
      "[0]\ttrain-mae:14371.87819\tval-mae:14261.70120\n",
      "[50]\ttrain-mae:6752.62971\tval-mae:6501.82036\n",
      "[100]\ttrain-mae:5940.54401\tval-mae:5695.87137\n",
      "[150]\ttrain-mae:5556.52738\tval-mae:5325.77721\n",
      "[200]\ttrain-mae:5269.94591\tval-mae:5044.25628\n",
      "[250]\ttrain-mae:5070.53181\tval-mae:4855.45118\n",
      "[300]\ttrain-mae:4852.46346\tval-mae:4636.10713\n",
      "[350]\ttrain-mae:4689.13335\tval-mae:4476.92122\n",
      "[400]\ttrain-mae:4518.32036\tval-mae:4308.65365\n",
      "[450]\ttrain-mae:4354.25654\tval-mae:4145.27780\n",
      "[500]\ttrain-mae:4247.63852\tval-mae:4041.86393\n",
      "[550]\ttrain-mae:4186.44808\tval-mae:3979.71676\n",
      "[600]\ttrain-mae:4125.29161\tval-mae:3920.19380\n",
      "[650]\ttrain-mae:4051.45508\tval-mae:3847.44046\n",
      "[700]\ttrain-mae:4010.94736\tval-mae:3805.82071\n",
      "[750]\ttrain-mae:3939.11687\tval-mae:3737.81563\n",
      "[800]\ttrain-mae:3883.19749\tval-mae:3682.97217\n",
      "[850]\ttrain-mae:3837.20776\tval-mae:3639.04430\n",
      "[900]\ttrain-mae:3800.63370\tval-mae:3603.48100\n",
      "[950]\ttrain-mae:3747.12578\tval-mae:3552.11011\n",
      "[999]\ttrain-mae:3725.87524\tval-mae:3531.67900\n"
     ]
    },
    {
     "name": "stderr",
     "output_type": "stream",
     "text": [
      "\u001b[31m2025/08/01 19:00:14 WARNING mlflow.models.model: Model logged without a signature and input example. Please set `input_example` parameter when logging the model to auto infer the model signature.\u001b[0m\n"
     ]
    },
    {
     "name": "stdout",
     "output_type": "stream",
     "text": [
      "XGBoost Step 0 MAE: 3531.6790\n",
      "🏃 View run Step0_Baseline at: https://dagshub.com/TomC333/ml-walmart-recruiting.mlflow/#/experiments/10/runs/60254500012f4a688d4feb47a47c56f7\n",
      "🧪 View experiment at: https://dagshub.com/TomC333/ml-walmart-recruiting.mlflow/#/experiments/10\n"
     ]
    }
   ],
   "source": [
    "features_step0 = ['Store', 'Dept', 'IsHoliday']\n",
    "target = 'Weekly_Sales'\n",
    "\n",
    "split_date = df['Date'].quantile(0.8)\n",
    "train_df = df[df['Date'] <= split_date]\n",
    "val_df = df[df['Date'] > split_date]\n",
    "\n",
    "X_train = train_df[features_step0]\n",
    "y_train = train_df[target]\n",
    "\n",
    "X_val = val_df[features_step0]\n",
    "y_val = val_df[target]\n",
    "\n",
    "dtrain = xgb.DMatrix(X_train, label=y_train)\n",
    "dval = xgb.DMatrix(X_val, label=y_val)\n",
    "\n",
    "params = {\n",
    "    \"objective\": \"reg:squarederror\",\n",
    "    \"eval_metric\": \"mae\",\n",
    "    \"seed\": 42,\n",
    "    \"verbosity\": 0,\n",
    "    \"learning_rate\": 0.1,\n",
    "    \"max_depth\": 6,\n",
    "    \"subsample\": 0.8,\n",
    "    \"colsample_bytree\": 0.8\n",
    "}\n",
    "\n",
    "evals = [(dtrain, 'train'), (dval, 'val')]\n",
    "\n",
    "with mlflow.start_run(run_name=\"Step0_Baseline\"):\n",
    "    model = xgb.train(\n",
    "        params,\n",
    "        dtrain,\n",
    "        num_boost_round=1000,\n",
    "        early_stopping_rounds=50,\n",
    "        evals=evals,\n",
    "        verbose_eval=50\n",
    "    )\n",
    "\n",
    "    y_pred = model.predict(dval)\n",
    "    mae = mean_absolute_error(y_val, y_pred)\n",
    "\n",
    "    mlflow.log_params(params)\n",
    "    mlflow.log_metric(\"mae\", mae)\n",
    "    mlflow.xgboost.log_model(model, \"model\")\n",
    "\n",
    "    print(f\"XGBoost Step 0 MAE: {mae:.4f}\")"
   ]
  },
  {
   "cell_type": "markdown",
   "id": "a53f18ae-5ae6-49a5-a656-ac67596a21ab",
   "metadata": {},
   "source": [
    "# Step 2, add time based features"
   ]
  },
  {
   "cell_type": "code",
   "execution_count": 11,
   "id": "fc70a6c1-58d4-4fce-b556-1e510b413c81",
   "metadata": {},
   "outputs": [],
   "source": [
    "df[\"Year\"] = df[\"Date\"].dt.year\n",
    "df[\"Month\"] = df[\"Date\"].dt.month\n",
    "df[\"Week\"] = df[\"Date\"].dt.isocalendar().week.astype(int)\n",
    "df[\"Quarter\"] = df[\"Date\"].dt.quarter\n",
    "df[\"DayOfWeek\"] = df[\"Date\"].dt.weekday\n",
    "df[\"IsWeekend\"] = df[\"DayOfWeek\"].isin([5, 6]).astype(int)"
   ]
  },
  {
   "cell_type": "code",
   "execution_count": 12,
   "id": "07b84491-fbfa-4d20-a94b-04bfcb2e68c6",
   "metadata": {},
   "outputs": [
    {
     "name": "stdout",
     "output_type": "stream",
     "text": [
      "[0]\ttrain-mae:14758.75129\tval-mae:14661.30299\n",
      "[50]\ttrain-mae:7878.83811\tval-mae:7652.37068\n",
      "[100]\ttrain-mae:6339.36236\tval-mae:6104.68396\n",
      "[150]\ttrain-mae:5584.70972\tval-mae:5389.06671\n",
      "[200]\ttrain-mae:5090.98147\tval-mae:4930.35533\n",
      "[250]\ttrain-mae:4727.27543\tval-mae:4616.79250\n",
      "[300]\ttrain-mae:4461.36249\tval-mae:4385.11416\n",
      "[350]\ttrain-mae:4287.14810\tval-mae:4240.85322\n",
      "[400]\ttrain-mae:4145.06392\tval-mae:4107.50270\n",
      "[450]\ttrain-mae:4022.41472\tval-mae:3995.00074\n",
      "[500]\ttrain-mae:3913.80855\tval-mae:3891.28828\n",
      "[550]\ttrain-mae:3820.18046\tval-mae:3804.45314\n",
      "[600]\ttrain-mae:3733.05636\tval-mae:3738.77330\n",
      "[650]\ttrain-mae:3645.79043\tval-mae:3654.19788\n",
      "[700]\ttrain-mae:3554.25405\tval-mae:3577.80468\n",
      "[750]\ttrain-mae:3481.91772\tval-mae:3517.30652\n",
      "[800]\ttrain-mae:3423.02505\tval-mae:3469.42542\n",
      "[850]\ttrain-mae:3352.00702\tval-mae:3403.62442\n",
      "[900]\ttrain-mae:3287.04091\tval-mae:3350.60906\n",
      "[950]\ttrain-mae:3227.57550\tval-mae:3297.56515\n",
      "[999]\ttrain-mae:3150.75069\tval-mae:3225.32726\n"
     ]
    },
    {
     "name": "stderr",
     "output_type": "stream",
     "text": [
      "\u001b[31m2025/08/01 19:06:15 WARNING mlflow.models.model: Model logged without a signature and input example. Please set `input_example` parameter when logging the model to auto infer the model signature.\u001b[0m\n"
     ]
    },
    {
     "name": "stdout",
     "output_type": "stream",
     "text": [
      "XGBoost Step 1 MAE: 3225.3273\n",
      "🏃 View run Step1_TimeBasedFeatures at: https://dagshub.com/TomC333/ml-walmart-recruiting.mlflow/#/experiments/10/runs/78a914467b4446aab1b7285d77b1ef07\n",
      "🧪 View experiment at: https://dagshub.com/TomC333/ml-walmart-recruiting.mlflow/#/experiments/10\n"
     ]
    }
   ],
   "source": [
    "features_step1 = [\n",
    "    'Store', 'Dept', 'IsHoliday',\n",
    "    'Year', 'Month', 'Week', 'Quarter',\n",
    "    'DayOfWeek', 'IsWeekend'\n",
    "]\n",
    "\n",
    "split_date = df['Date'].quantile(0.8)\n",
    "train_df = df[df['Date'] <= split_date]\n",
    "val_df = df[df['Date'] > split_date]\n",
    "\n",
    "X_train = train_df[features_step1]\n",
    "y_train = train_df[target]\n",
    "\n",
    "X_val = val_df[features_step1]\n",
    "y_val = val_df[target]\n",
    "\n",
    "train_set = xgb.DMatrix(X_train, label=y_train)\n",
    "val_set = xgb.DMatrix(X_val, label=y_val)\n",
    "\n",
    "params = {\n",
    "    \"objective\": \"reg:squarederror\",\n",
    "    \"eval_metric\": \"mae\",\n",
    "    \"seed\": 42,\n",
    "    \"learning_rate\": 0.05,\n",
    "    \"max_depth\": 6,\n",
    "}\n",
    "\n",
    "with mlflow.start_run(run_name=\"Step1_TimeBasedFeatures\") as run:\n",
    "    model = xgb.train(\n",
    "        params,\n",
    "        train_set,\n",
    "        num_boost_round=1000,\n",
    "        evals=[(train_set, \"train\"), (val_set, \"val\")],\n",
    "        early_stopping_rounds=50,\n",
    "        verbose_eval=50,\n",
    "    )\n",
    "\n",
    "    y_pred = model.predict(val_set)\n",
    "    val_mae = mean_absolute_error(y_val, y_pred)\n",
    "    mlflow.log_metric(\"val_mae\", val_mae)\n",
    "    mlflow.xgboost.log_model(model, artifact_path=\"model\")\n",
    "    print(f\"XGBoost Step 1 MAE: {val_mae:.4f}\")"
   ]
  },
  {
   "cell_type": "markdown",
   "id": "2ab28c31-4c0e-4b61-af66-ee9df51da7be",
   "metadata": {},
   "source": [
    "# step 2, add holiday based features"
   ]
  },
  {
   "cell_type": "code",
   "execution_count": 14,
   "id": "2dfb3927-8cd6-4c83-aaa6-40102984e06d",
   "metadata": {},
   "outputs": [],
   "source": [
    "superbowl_dates = pd.to_datetime(['2010-02-12', '2011-02-11', '2012-02-10', '2013-02-08'])\n",
    "laborday_dates = pd.to_datetime(['2010-09-10', '2011-09-09', '2012-09-07', '2013-09-06'])\n",
    "thanksgiving_dates = pd.to_datetime(['2010-11-26', '2011-11-25', '2012-11-23', '2013-11-29'])\n",
    "christmas_dates = pd.to_datetime(['2010-12-31', '2011-12-30', '2012-12-28', '2013-12-27'])\n",
    "\n",
    "df['Is_SuperBowl'] = 0\n",
    "df['Is_LaborDay'] = 0\n",
    "df['Is_Thanksgiving'] = 0\n",
    "df['Is_Christmas'] = 0\n",
    "\n",
    "df.loc[df['Date'].isin(superbowl_dates), 'Is_SuperBowl'] = 1\n",
    "df.loc[df['Date'].isin(laborday_dates), 'Is_LaborDay'] = 1\n",
    "df.loc[df['Date'].isin(thanksgiving_dates), 'Is_Thanksgiving'] = 1\n",
    "df.loc[df['Date'].isin(christmas_dates), 'Is_Christmas'] = 1"
   ]
  },
  {
   "cell_type": "code",
   "execution_count": 16,
   "id": "c0021b53-942b-45e9-a060-000a3d9e0c3f",
   "metadata": {},
   "outputs": [
    {
     "name": "stdout",
     "output_type": "stream",
     "text": [
      "[0]\ttrain-mae:15205.47537\tval-mae:15121.62524\n",
      "[50]\ttrain-mae:8123.57494\tval-mae:7965.38167\n",
      "[100]\ttrain-mae:6505.29451\tval-mae:6348.98331\n",
      "[150]\ttrain-mae:5931.65595\tval-mae:5809.42671\n",
      "[200]\ttrain-mae:5502.61521\tval-mae:5412.91517\n",
      "[250]\ttrain-mae:5255.78151\tval-mae:5181.57143\n",
      "[300]\ttrain-mae:4988.95534\tval-mae:4933.28736\n",
      "[350]\ttrain-mae:4783.03134\tval-mae:4759.39461\n",
      "[400]\ttrain-mae:4637.38041\tval-mae:4621.04423\n",
      "[450]\ttrain-mae:4524.19314\tval-mae:4530.76180\n",
      "[500]\ttrain-mae:4359.18704\tval-mae:4382.16156\n",
      "[550]\ttrain-mae:4214.37021\tval-mae:4254.12737\n",
      "[600]\ttrain-mae:4124.07471\tval-mae:4174.28148\n",
      "[650]\ttrain-mae:4027.23287\tval-mae:4091.75994\n",
      "[700]\ttrain-mae:3925.04031\tval-mae:3999.90237\n",
      "[750]\ttrain-mae:3859.33087\tval-mae:3934.39573\n",
      "[800]\ttrain-mae:3759.81081\tval-mae:3836.26341\n",
      "[850]\ttrain-mae:3695.86049\tval-mae:3785.67720\n",
      "[900]\ttrain-mae:3627.13050\tval-mae:3735.01717\n",
      "[950]\ttrain-mae:3591.55512\tval-mae:3704.05741\n",
      "[999]\ttrain-mae:3529.06669\tval-mae:3650.19438\n",
      "XGBoost Step 2 MAE: 3650.1944\n"
     ]
    },
    {
     "name": "stderr",
     "output_type": "stream",
     "text": [
      "\u001b[31m2025/08/01 19:10:13 WARNING mlflow.models.model: Model logged without a signature and input example. Please set `input_example` parameter when logging the model to auto infer the model signature.\u001b[0m\n"
     ]
    },
    {
     "name": "stdout",
     "output_type": "stream",
     "text": [
      "🏃 View run XGBoost_Step2 at: https://dagshub.com/TomC333/ml-walmart-recruiting.mlflow/#/experiments/10/runs/6f764691bb734ebb8f1bf93dbdf12e84\n",
      "🧪 View experiment at: https://dagshub.com/TomC333/ml-walmart-recruiting.mlflow/#/experiments/10\n"
     ]
    }
   ],
   "source": [
    "from sklearn.model_selection import train_test_split\n",
    "\n",
    "features_step2 = [\n",
    "    'Store', 'Dept', 'IsHoliday',    \n",
    "    'Month', 'Year', 'Week', 'Quarter',\n",
    "    'Is_SuperBowl', 'Is_LaborDay', 'Is_Thanksgiving', 'Is_Christmas'\n",
    "]\n",
    "\n",
    "X = df[features_step2]\n",
    "y = df[target]\n",
    "\n",
    "X_train, X_val, y_train, y_val = train_test_split(\n",
    "    X, y, test_size=0.2, shuffle=False\n",
    ")\n",
    "\n",
    "train_set = xgb.DMatrix(X_train, label=y_train)\n",
    "val_set = xgb.DMatrix(X_val, label=y_val)\n",
    "\n",
    "params = {\n",
    "    \"objective\": \"reg:squarederror\",\n",
    "    \"eval_metric\": \"mae\",\n",
    "    \"tree_method\": \"hist\",\n",
    "    \"learning_rate\": 0.05,\n",
    "    \"max_depth\": 6,\n",
    "    \"subsample\": 0.8,\n",
    "    \"colsample_bytree\": 0.8,\n",
    "    \"seed\": 42\n",
    "}\n",
    "\n",
    "with mlflow.start_run(run_name=\"XGBoost_Step2\"):\n",
    "    model = xgb.train(\n",
    "        params,\n",
    "        train_set,\n",
    "        num_boost_round=1000,\n",
    "        evals=[(train_set, \"train\"), (val_set, \"val\")],\n",
    "        early_stopping_rounds=100,\n",
    "        verbose_eval=50\n",
    "    )\n",
    "\n",
    "    y_pred = model.predict(val_set)\n",
    "    mae = mean_absolute_error(y_val, y_pred)\n",
    "    print(f\"XGBoost Step 2 MAE: {mae:.4f}\")\n",
    "\n",
    "    mlflow.log_params(params)\n",
    "    mlflow.log_metric(\"val_mae\", mae)\n",
    "    mlflow.xgboost.log_model(model, \"model\")"
   ]
  },
  {
   "cell_type": "markdown",
   "id": "1143ddb9-33fc-447a-9ce2-370e17d81fee",
   "metadata": {},
   "source": [
    "# step 3, create lag features"
   ]
  },
  {
   "cell_type": "code",
   "execution_count": 21,
   "id": "93b0998d-6e62-4720-b773-262c36bc32e6",
   "metadata": {},
   "outputs": [],
   "source": [
    "LAG_WEEKS = [1, 2, 3, 4, 52]\n",
    "for lag in LAG_WEEKS:\n",
    "    df[f\"Sales_Lag_{lag}\"] = df.groupby([\"Store\", \"Dept\"])[\"Weekly_Sales\"].shift(lag)"
   ]
  },
  {
   "cell_type": "code",
   "execution_count": 22,
   "id": "df2826aa-539b-4295-a7e6-6f759dc2df03",
   "metadata": {},
   "outputs": [],
   "source": [
    "df_lagged = df.dropna(subset=[f\"Sales_Lag_{lag}\" for lag in LAG_WEEKS])"
   ]
  },
  {
   "cell_type": "code",
   "execution_count": 25,
   "id": "65f0a624-3834-4ee1-a7b3-1247c8993c71",
   "metadata": {},
   "outputs": [
    {
     "name": "stdout",
     "output_type": "stream",
     "text": [
      "[0]\ttrain-mae:10899.10236\tval-mae:10718.31034\n"
     ]
    },
    {
     "name": "stderr",
     "output_type": "stream",
     "text": [
      "/var/folders/91/01r863q91sz9mhh3gsvm_d640000gn/T/ipykernel_20643/942481270.py:13: SettingWithCopyWarning: \n",
      "A value is trying to be set on a copy of a slice from a DataFrame.\n",
      "Try using .loc[row_indexer,col_indexer] = value instead\n",
      "\n",
      "See the caveats in the documentation: https://pandas.pydata.org/pandas-docs/stable/user_guide/indexing.html#returning-a-view-versus-a-copy\n",
      "  X[col] = X[col].astype('category').cat.codes\n"
     ]
    },
    {
     "name": "stdout",
     "output_type": "stream",
     "text": [
      "[50]\ttrain-mae:1278.07373\tval-mae:1315.98185\n",
      "[67]\ttrain-mae:1243.95762\tval-mae:1313.98138\n",
      "XGBoost Step 3 MAE: 1313.9814\n"
     ]
    },
    {
     "name": "stderr",
     "output_type": "stream",
     "text": [
      "\u001b[31m2025/08/01 19:17:45 WARNING mlflow.models.model: Model logged without a signature and input example. Please set `input_example` parameter when logging the model to auto infer the model signature.\u001b[0m\n"
     ]
    },
    {
     "name": "stdout",
     "output_type": "stream",
     "text": [
      "🏃 View run XGBoost_Step3 at: https://dagshub.com/TomC333/ml-walmart-recruiting.mlflow/#/experiments/10/runs/991ef63ee4f04aa79c8c55cc88e0afb8\n",
      "🧪 View experiment at: https://dagshub.com/TomC333/ml-walmart-recruiting.mlflow/#/experiments/10\n"
     ]
    }
   ],
   "source": [
    "features_step3 = [\n",
    "    'Store', 'Dept', 'IsHoliday', 'Month', 'Year', 'Week', 'Quarter',\n",
    "    'Temperature', 'Fuel_Price', 'Size', 'Type',\n",
    "    'Is_SuperBowl', 'Is_LaborDay', 'Is_Thanksgiving', 'Is_Christmas',\n",
    "    'Sales_Lag_1', 'Sales_Lag_2', 'Sales_Lag_3', 'Sales_Lag_4', 'Sales_Lag_52'\n",
    "]\n",
    "target = 'Weekly_Sales'\n",
    "\n",
    "X = df_lagged[features_step3]\n",
    "y = df_lagged[target]\n",
    "\n",
    "for col in X.select_dtypes(include='object').columns:\n",
    "    X[col] = X[col].astype('category').cat.codes\n",
    "\n",
    "X_train, X_val, y_train, y_val = train_test_split(X, y, shuffle=False, test_size=0.2)\n",
    "\n",
    "model = xgb.train(\n",
    "    {\n",
    "        \"objective\": \"reg:squarederror\",\n",
    "        \"eval_metric\": \"mae\",\n",
    "        \"seed\": 42\n",
    "    },\n",
    "    dtrain=xgb.DMatrix(X_train, label=y_train),\n",
    "    num_boost_round=1000,\n",
    "    evals=[(xgb.DMatrix(X_train, y_train), \"train\"), (xgb.DMatrix(X_val, y_val), \"val\")],\n",
    "    early_stopping_rounds=50,\n",
    "    verbose_eval=50\n",
    ")\n",
    "\n",
    "y_pred = model.predict(xgb.DMatrix(X_val))\n",
    "mae = mean_absolute_error(y_val, y_pred)\n",
    "print(f\"XGBoost Step 3 MAE: {mae:.4f}\")\n",
    "\n",
    "with mlflow.start_run(run_name=\"XGBoost_Step3\"):\n",
    "    mlflow.log_params({\"model\": \"xgboost\", \"step\": \"3\", \"lags\": str(LAG_WEEKS)})\n",
    "    mlflow.log_metric(\"mae\", mae)\n",
    "    mlflow.xgboost.log_model(model, \"model\")"
   ]
  },
  {
   "cell_type": "markdown",
   "id": "a239e88b-58d6-47a0-8132-572a006b281c",
   "metadata": {},
   "source": [
    "# store merged train DF"
   ]
  },
  {
   "cell_type": "code",
   "execution_count": 26,
   "id": "e7d49dc3-4ae9-4c87-82e5-484aef40cb09",
   "metadata": {},
   "outputs": [
    {
     "name": "stdout",
     "output_type": "stream",
     "text": [
      "Saved and logged train merged dataframe at train_merged_full.csv\n"
     ]
    }
   ],
   "source": [
    "import os\n",
    "\n",
    "df_path = \"train_merged_full.csv\"\n",
    "df.to_csv(df_path, index=False)\n",
    "\n",
    "print(f\"Saved and logged train merged dataframe at {df_path}\")"
   ]
  },
  {
   "cell_type": "markdown",
   "id": "d19c6b48-52bf-41af-9751-9a666f85f068",
   "metadata": {},
   "source": [
    "# Log the best model"
   ]
  },
  {
   "cell_type": "code",
   "execution_count": 27,
   "id": "898b0ecd-2df3-4628-a130-6230ed2e84b1",
   "metadata": {},
   "outputs": [],
   "source": [
    "from mlflow.tracking import MlflowClient\n",
    "\n",
    "def log_the_model(run_id, description):\n",
    "    client = MlflowClient()\n",
    "    \n",
    "    model_uri = f\"runs:/{run_id}/model\"\n",
    "    model_name = \"Best_XGBoost_Model\"\n",
    "    \n",
    "    try:\n",
    "        client.create_registered_model(model_name)\n",
    "    except mlflow.exceptions.RestException:\n",
    "        pass  \n",
    "    \n",
    "    client.create_model_version(\n",
    "        name=model_name,\n",
    "        source=model_uri,\n",
    "        run_id=run_id,\n",
    "        description=description\n",
    "    )"
   ]
  },
  {
   "cell_type": "code",
   "execution_count": 28,
   "id": "fed6dcaf-3b17-4f91-88f2-c945507d4f28",
   "metadata": {},
   "outputs": [
    {
     "name": "stderr",
     "output_type": "stream",
     "text": [
      "2025/08/01 19:24:19 INFO mlflow.store.model_registry.abstract_store: Waiting up to 300 seconds for model version to finish creation. Model name: Best_XGBoost_Model, version 1\n"
     ]
    }
   ],
   "source": [
    "log_the_model(\"991ef63ee4f04aa79c8c55cc88e0afb8\", \"Step 3 XGBoost Model\")"
   ]
  },
  {
   "cell_type": "code",
   "execution_count": null,
   "id": "8589c668-eba8-48da-9e0a-369842e8c61f",
   "metadata": {},
   "outputs": [],
   "source": []
  }
 ],
 "metadata": {
  "kernelspec": {
   "display_name": "Python 3 (ipykernel)",
   "language": "python",
   "name": "python3"
  },
  "language_info": {
   "codemirror_mode": {
    "name": "ipython",
    "version": 3
   },
   "file_extension": ".py",
   "mimetype": "text/x-python",
   "name": "python",
   "nbconvert_exporter": "python",
   "pygments_lexer": "ipython3",
   "version": "3.12.7"
  }
 },
 "nbformat": 4,
 "nbformat_minor": 5
}
