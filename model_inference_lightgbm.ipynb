{
 "cells": [
  {
   "cell_type": "code",
   "execution_count": 1,
   "id": "5c6a200f-2453-4d0b-ae6c-e6c8075e8bc7",
   "metadata": {},
   "outputs": [],
   "source": [
    "import pandas as pd\n",
    "import joblib\n",
    "\n",
    "test_merged = pd.read_csv(\"data/test_merged.csv\")\n",
    "\n",
    "non_numeric = test_merged.select_dtypes(include=[\"object\", \"bool\", \"category\"]).columns.tolist()\n",
    "if non_numeric:\n",
    "    test_merged = pd.get_dummies(test_merged, columns=non_numeric)\n",
    "\n",
    "train_merged = pd.read_csv(\"data/train_merged.csv\")\n",
    "X_train = train_merged.drop(columns=[\"Weekly_Sales\", \"Date\"])\n",
    "X_train = pd.get_dummies(X_train)\n",
    "\n",
    "test_merged = test_merged.reindex(columns=X_train.columns, fill_value=0)\n",
    "\n",
    "model = joblib.load(\"model_registry/lightgbm_model.pkl\")\n",
    "\n",
    "test_preds = model.predict(test_merged, predict_disable_shape_check=True)\n",
    "\n",
    "submission = pd.read_csv(\"data/sampleSubmission.csv\")\n",
    "submission[\"Weekly_Sales\"] = test_preds\n",
    "\n",
    "submission.to_csv(\"data/lightgbm_submission.csv\", index=False)"
   ]
  }
 ],
 "metadata": {
  "kernelspec": {
   "display_name": "Python 3 (ipykernel)",
   "language": "python",
   "name": "python3"
  },
  "language_info": {
   "codemirror_mode": {
    "name": "ipython",
    "version": 3
   },
   "file_extension": ".py",
   "mimetype": "text/x-python",
   "name": "python",
   "nbconvert_exporter": "python",
   "pygments_lexer": "ipython3",
   "version": "3.12.7"
  }
 },
 "nbformat": 4,
 "nbformat_minor": 5
}
