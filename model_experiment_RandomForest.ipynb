{
 "cells": [
  {
   "cell_type": "code",
   "execution_count": 2,
   "id": "2c9d9fcc-9402-4ba9-acc3-aaa66df69ccc",
   "metadata": {},
   "outputs": [
    {
     "data": {
      "text/html": [
       "<pre style=\"white-space:pre;overflow-x:auto;line-height:normal;font-family:Menlo,'DejaVu Sans Mono',consolas,'Courier New',monospace\">Initialized MLflow to track repo <span style=\"color: #008000; text-decoration-color: #008000\">\"TomC333/ml-walmart-recruiting\"</span>\n",
       "</pre>\n"
      ],
      "text/plain": [
       "Initialized MLflow to track repo \u001b[32m\"TomC333/ml-walmart-recruiting\"\u001b[0m\n"
      ]
     },
     "metadata": {},
     "output_type": "display_data"
    },
    {
     "data": {
      "text/html": [
       "<pre style=\"white-space:pre;overflow-x:auto;line-height:normal;font-family:Menlo,'DejaVu Sans Mono',consolas,'Courier New',monospace\">Repository TomC333/ml-walmart-recruiting initialized!\n",
       "</pre>\n"
      ],
      "text/plain": [
       "Repository TomC333/ml-walmart-recruiting initialized!\n"
      ]
     },
     "metadata": {},
     "output_type": "display_data"
    },
    {
     "name": "stderr",
     "output_type": "stream",
     "text": [
      "\u001b[31m2025/08/03 10:45:50 WARNING mlflow.models.model: Model logged without a signature and input example. Please set `input_example` parameter when logging the model to auto infer the model signature.\u001b[0m\n"
     ]
    },
    {
     "name": "stdout",
     "output_type": "stream",
     "text": [
      "RandomForest Step 0 MAE: 5749.0643\n",
      "🏃 View run Step0_Baseline at: https://dagshub.com/TomC333/ml-walmart-recruiting.mlflow/#/experiments/25/runs/4048c92c3d3b4fe7b838f2f76251b380\n",
      "🧪 View experiment at: https://dagshub.com/TomC333/ml-walmart-recruiting.mlflow/#/experiments/25\n"
     ]
    },
    {
     "name": "stderr",
     "output_type": "stream",
     "text": [
      "\u001b[31m2025/08/03 10:46:06 WARNING mlflow.models.model: Model logged without a signature and input example. Please set `input_example` parameter when logging the model to auto infer the model signature.\u001b[0m\n"
     ]
    },
    {
     "name": "stdout",
     "output_type": "stream",
     "text": [
      "RandomForest Step 1 MAE: 2644.1363\n",
      "🏃 View run Step1_TimeBasedFeatures at: https://dagshub.com/TomC333/ml-walmart-recruiting.mlflow/#/experiments/25/runs/71a96c838124401197b7adf9749ca957\n",
      "🧪 View experiment at: https://dagshub.com/TomC333/ml-walmart-recruiting.mlflow/#/experiments/25\n"
     ]
    },
    {
     "name": "stderr",
     "output_type": "stream",
     "text": [
      "\u001b[31m2025/08/03 10:47:32 WARNING mlflow.models.model: Model logged without a signature and input example. Please set `input_example` parameter when logging the model to auto infer the model signature.\u001b[0m\n"
     ]
    },
    {
     "name": "stdout",
     "output_type": "stream",
     "text": [
      "RandomForest Step 2 MAE: 1594.0438\n",
      "🏃 View run Step2_HolidayFeatures at: https://dagshub.com/TomC333/ml-walmart-recruiting.mlflow/#/experiments/25/runs/d2c1072a85e5431b9b07d965bbee705f\n",
      "🧪 View experiment at: https://dagshub.com/TomC333/ml-walmart-recruiting.mlflow/#/experiments/25\n",
      "Saved processed data for inference\n"
     ]
    }
   ],
   "source": [
    "import pandas as pd\n",
    "import numpy as np\n",
    "from sklearn.ensemble import RandomForestRegressor\n",
    "from sklearn.metrics import mean_absolute_error\n",
    "import mlflow\n",
    "import dagshub\n",
    "from sklearn.model_selection import train_test_split\n",
    "from sklearn.preprocessing import LabelEncoder\n",
    "\n",
    "dagshub.init(repo_owner='TomC333', repo_name='ml-walmart-recruiting', mlflow=True)\n",
    "mlflow.set_experiment(\"RandomForest_Iterative_Baseline\")\n",
    "\n",
    "features_data = pd.read_csv('data/features.csv')\n",
    "train_data = pd.read_csv('data/train.csv')\n",
    "stores = pd.read_csv('data/stores.csv')\n",
    "\n",
    "df = train_data.merge(features_data, on=['Store', 'Date'], how='inner').merge(stores, on=['Store'], how='inner')\n",
    "\n",
    "if 'IsHoliday_y' in df.columns:\n",
    "    df.drop(['IsHoliday_y'], axis=1, inplace=True)\n",
    "    df.rename(columns={'IsHoliday_x': 'IsHoliday'}, inplace=True)\n",
    "\n",
    "df['Date'] = pd.to_datetime(df['Date'])\n",
    "df = df.sort_values(['Store', 'Dept', 'Date'])\n",
    "df = df[df['Weekly_Sales'] >= 0]\n",
    "\n",
    "target = 'Weekly_Sales'\n",
    "\n",
    "features_step0 = ['Store', 'Dept', 'IsHoliday']\n",
    "\n",
    "split_date = df['Date'].quantile(0.8)\n",
    "train_df = df[df['Date'] <= split_date]\n",
    "val_df = df[df['Date'] > split_date]\n",
    "\n",
    "X_train = train_df[features_step0].copy()\n",
    "y_train = train_df[target].copy()\n",
    "X_val = val_df[features_step0].copy()\n",
    "y_val = val_df[target].copy()\n",
    "\n",
    "for col in ['Store', 'Dept']:\n",
    "    le = LabelEncoder()\n",
    "    X_train[col] = le.fit_transform(X_train[col])\n",
    "    \n",
    "    # Only transform values that exist in the training set, others will be set to -1\n",
    "    X_val[col] = X_val[col].apply(lambda x: le.transform([x])[0] if x in le.classes_ else -1)\n",
    "\n",
    "with mlflow.start_run(run_name=\"Step0_Baseline\"):\n",
    "    params = {\n",
    "        \"n_estimators\": 100,\n",
    "        \"max_depth\": 10,\n",
    "        \"min_samples_split\": 2,\n",
    "        \"random_state\": 42,\n",
    "        \"n_jobs\": -1\n",
    "    }\n",
    "    \n",
    "    model = RandomForestRegressor(**params)\n",
    "    model.fit(X_train, y_train)\n",
    "    \n",
    "    y_pred = model.predict(X_val)\n",
    "    mae = mean_absolute_error(y_val, y_pred)\n",
    "    \n",
    "    mlflow.log_params(params)\n",
    "    mlflow.log_metric(\"mae\", mae)\n",
    "    mlflow.sklearn.log_model(model, \"model\")\n",
    "    \n",
    "    print(f\"RandomForest Step 0 MAE: {mae:.4f}\")\n",
    "\n",
    "df[\"Year\"] = df[\"Date\"].dt.year\n",
    "df[\"Month\"] = df[\"Date\"].dt.month\n",
    "df[\"Week\"] = df[\"Date\"].dt.isocalendar().week.astype(int)\n",
    "df[\"Quarter\"] = df[\"Date\"].dt.quarter\n",
    "df[\"DayOfWeek\"] = df[\"Date\"].dt.weekday\n",
    "df[\"IsWeekend\"] = df[\"DayOfWeek\"].isin([5, 6]).astype(int)\n",
    "\n",
    "features_step1 = [\n",
    "    'Store', 'Dept', 'IsHoliday',\n",
    "    'Year', 'Month', 'Week', 'Quarter',\n",
    "    'DayOfWeek', 'IsWeekend'\n",
    "]\n",
    "\n",
    "# Split data\n",
    "train_df = df[df['Date'] <= split_date]\n",
    "val_df = df[df['Date'] > split_date]\n",
    "\n",
    "X_train = train_df[features_step1].copy()\n",
    "y_train = train_df[target].copy()\n",
    "X_val = val_df[features_step1].copy()\n",
    "y_val = val_df[target].copy()\n",
    "\n",
    "# Encode categorical features\n",
    "for col in ['Store', 'Dept']:\n",
    "    le = LabelEncoder()\n",
    "    X_train[col] = le.fit_transform(X_train[col])\n",
    "    X_val[col] = X_val[col].apply(lambda x: le.transform([x])[0] if x in le.classes_ else -1)\n",
    "\n",
    "with mlflow.start_run(run_name=\"Step1_TimeBasedFeatures\"):\n",
    "    params = {\n",
    "        \"n_estimators\": 150,\n",
    "        \"max_depth\": 15,\n",
    "        \"min_samples_split\": 2,\n",
    "        \"random_state\": 42,\n",
    "        \"n_jobs\": -1\n",
    "    }\n",
    "    \n",
    "    model = RandomForestRegressor(**params)\n",
    "    model.fit(X_train, y_train)\n",
    "    \n",
    "    y_pred = model.predict(X_val)\n",
    "    mae = mean_absolute_error(y_val, y_pred)\n",
    "    \n",
    "    mlflow.log_params(params)\n",
    "    mlflow.log_metric(\"mae\", mae)\n",
    "    mlflow.sklearn.log_model(model, \"model\")\n",
    "    \n",
    "    print(f\"RandomForest Step 1 MAE: {mae:.4f}\")\n",
    "\n",
    "superbowl_dates = pd.to_datetime(['2010-02-12', '2011-02-11', '2012-02-10', '2013-02-08'])\n",
    "laborday_dates = pd.to_datetime(['2010-09-10', '2011-09-09', '2012-09-07', '2013-09-06'])\n",
    "thanksgiving_dates = pd.to_datetime(['2010-11-26', '2011-11-25', '2012-11-23', '2013-11-29'])\n",
    "christmas_dates = pd.to_datetime(['2010-12-31', '2011-12-30', '2012-12-28', '2013-12-27'])\n",
    "\n",
    "df['Is_SuperBowl'] = 0\n",
    "df['Is_LaborDay'] = 0\n",
    "df['Is_Thanksgiving'] = 0\n",
    "df['Is_Christmas'] = 0\n",
    "\n",
    "df.loc[df['Date'].isin(superbowl_dates), 'Is_SuperBowl'] = 1\n",
    "df.loc[df['Date'].isin(laborday_dates), 'Is_LaborDay'] = 1\n",
    "df.loc[df['Date'].isin(thanksgiving_dates), 'Is_Thanksgiving'] = 1\n",
    "df.loc[df['Date'].isin(christmas_dates), 'Is_Christmas'] = 1\n",
    "\n",
    "features_step2 = [\n",
    "    'Store', 'Dept', 'IsHoliday',    \n",
    "    'Month', 'Year', 'Week', 'Quarter',\n",
    "    'Is_SuperBowl', 'Is_LaborDay', 'Is_Thanksgiving', 'Is_Christmas'\n",
    "]\n",
    "\n",
    "train_df = df[df['Date'] <= split_date]\n",
    "val_df = df[df['Date'] > split_date]\n",
    "\n",
    "X_train = train_df[features_step2].copy()\n",
    "y_train = train_df[target].copy()\n",
    "X_val = val_df[features_step2].copy()\n",
    "y_val = val_df[target].copy()\n",
    "\n",
    "for col in ['Store', 'Dept']:\n",
    "    le = LabelEncoder()\n",
    "    X_train[col] = le.fit_transform(X_train[col])\n",
    "    X_val[col] = X_val[col].apply(lambda x: le.transform([x])[0] if x in le.classes_ else -1)\n",
    "\n",
    "with mlflow.start_run(run_name=\"Step2_HolidayFeatures\"):\n",
    "    params = {\n",
    "        \"n_estimators\": 200,\n",
    "        \"max_depth\": 20,\n",
    "        \"min_samples_split\": 2,\n",
    "        \"random_state\": 42,\n",
    "        \"n_jobs\": -1\n",
    "    }\n",
    "    \n",
    "    model = RandomForestRegressor(**params)\n",
    "    model.fit(X_train, y_train)\n",
    "    \n",
    "    y_pred = model.predict(X_val)\n",
    "    mae = mean_absolute_error(y_val, y_pred)\n",
    "    \n",
    "    mlflow.log_params(params)\n",
    "    mlflow.log_metric(\"mae\", mae)\n",
    "    mlflow.sklearn.log_model(model, \"model\")\n",
    "    \n",
    "    print(f\"RandomForest Step 2 MAE: {mae:.4f}\")\n",
    "\n",
    "df.to_csv(\"train_merged_full_rf.csv\", index=False)\n",
    "print(\"Saved processed data for inference\")\n",
    "\n",
    "from mlflow.tracking import MlflowClient\n",
    "\n",
    "def log_the_model(run_id, description):\n",
    "    client = MlflowClient()\n",
    "    \n",
    "    model_uri = f\"runs:/{run_id}/model\"\n",
    "    model_name = \"Best_RandomForest_Model\"\n",
    "    \n",
    "    try:\n",
    "        client.create_registered_model(model_name)\n",
    "    except mlflow.exceptions.RestException:\n",
    "        pass  \n",
    "    \n",
    "    client.create_model_version(\n",
    "        name=model_name,\n",
    "        source=model_uri,\n",
    "        run_id=run_id,\n",
    "        description=description\n",
    "    )\n"
   ]
  },
  {
   "cell_type": "code",
   "execution_count": 3,
   "id": "ffbbfaa3-ca60-4487-990b-95cc8ed47198",
   "metadata": {},
   "outputs": [
    {
     "name": "stderr",
     "output_type": "stream",
     "text": [
      "2025/08/03 10:57:01 INFO mlflow.store.model_registry.abstract_store: Waiting up to 300 seconds for model version to finish creation. Model name: Best_RandomForest_Model, version 1\n"
     ]
    }
   ],
   "source": [
    "log_the_model(\"d2c1072a85e5431b9b07d965bbee705f\", \"Bet random forest model\")"
   ]
  },
  {
   "cell_type": "code",
   "execution_count": null,
   "id": "3b6da6b8-ed11-4241-8d3d-33856ffc90dd",
   "metadata": {},
   "outputs": [],
   "source": []
  }
 ],
 "metadata": {
  "kernelspec": {
   "display_name": "Python 3 (ipykernel)",
   "language": "python",
   "name": "python3"
  },
  "language_info": {
   "codemirror_mode": {
    "name": "ipython",
    "version": 3
   },
   "file_extension": ".py",
   "mimetype": "text/x-python",
   "name": "python",
   "nbconvert_exporter": "python",
   "pygments_lexer": "ipython3",
   "version": "3.12.7"
  }
 },
 "nbformat": 4,
 "nbformat_minor": 5
}
