{
 "cells": [
  {
   "cell_type": "markdown",
   "id": "6d633be3-de13-4a61-b43d-a71f28556a3f",
   "metadata": {},
   "source": [
    "# Setup"
   ]
  },
  {
   "cell_type": "code",
   "execution_count": 1,
   "id": "af97b601-e394-4064-a0ee-d00fc17f4fd1",
   "metadata": {},
   "outputs": [
    {
     "data": {
      "text/html": [
       "<pre style=\"white-space:pre;overflow-x:auto;line-height:normal;font-family:Menlo,'DejaVu Sans Mono',consolas,'Courier New',monospace\">Accessing as TomC333\n",
       "</pre>\n"
      ],
      "text/plain": [
       "Accessing as TomC333\n"
      ]
     },
     "metadata": {},
     "output_type": "display_data"
    },
    {
     "data": {
      "text/html": [
       "<pre style=\"white-space:pre;overflow-x:auto;line-height:normal;font-family:Menlo,'DejaVu Sans Mono',consolas,'Courier New',monospace\">Initialized MLflow to track repo <span style=\"color: #008000; text-decoration-color: #008000\">\"TomC333/ml-walmart-recruiting\"</span>\n",
       "</pre>\n"
      ],
      "text/plain": [
       "Initialized MLflow to track repo \u001b[32m\"TomC333/ml-walmart-recruiting\"\u001b[0m\n"
      ]
     },
     "metadata": {},
     "output_type": "display_data"
    },
    {
     "data": {
      "text/html": [
       "<pre style=\"white-space:pre;overflow-x:auto;line-height:normal;font-family:Menlo,'DejaVu Sans Mono',consolas,'Courier New',monospace\">Repository TomC333/ml-walmart-recruiting initialized!\n",
       "</pre>\n"
      ],
      "text/plain": [
       "Repository TomC333/ml-walmart-recruiting initialized!\n"
      ]
     },
     "metadata": {},
     "output_type": "display_data"
    }
   ],
   "source": [
    "import pandas as pd\n",
    "import numpy as np\n",
    "import lightgbm as lgb\n",
    "import mlflow\n",
    "import dagshub\n",
    "\n",
    "from sklearn.metrics import mean_absolute_error\n",
    "from sklearn.model_selection import train_test_split\n",
    "from sklearn.pipeline import Pipeline\n",
    "\n",
    "dagshub.init(repo_owner='TomC333', repo_name='ml-walmart-recruiting', mlflow=True)\n",
    "mlflow.set_experiment(\"LightGBM_Training\")\n",
    "\n",
    "train = pd.read_csv(\"data/train_merged.csv\", parse_dates=[\"Date\"])\n",
    "test = pd.read_csv(\"data/test_merged.csv\", parse_dates=[\"Date\"])"
   ]
  },
  {
   "cell_type": "markdown",
   "id": "3206a64a-6502-4220-a36e-93396e8d1207",
   "metadata": {},
   "source": [
    "# Feature Engineering"
   ]
  },
  {
   "cell_type": "code",
   "execution_count": 2,
   "id": "2ff8641e-68ba-4ea9-b25e-72e3d4fa6f33",
   "metadata": {},
   "outputs": [],
   "source": [
    "def create_date_features(df):\n",
    "    df[\"Year\"] = df[\"Date\"].dt.year\n",
    "    df[\"Month\"] = df[\"Date\"].dt.month\n",
    "    df[\"Week\"] = df[\"Date\"].dt.isocalendar().week.astype(int)\n",
    "    df[\"Day\"] = df[\"Date\"].dt.day\n",
    "    df[\"IsMonthStart\"] = df[\"Date\"].dt.is_month_start.astype(int)\n",
    "    df[\"IsMonthEnd\"] = df[\"Date\"].dt.is_month_end.astype(int)\n",
    "    df[\"DayOfWeek\"] = df[\"Date\"].dt.weekday\n",
    "    return df\n",
    "\n",
    "train = create_date_features(train)\n",
    "test = create_date_features(test)"
   ]
  },
  {
   "cell_type": "markdown",
   "id": "272e2f5a-7fa2-4e1f-b7c0-652214fe7c60",
   "metadata": {},
   "source": [
    "# Feature selection"
   ]
  },
  {
   "cell_type": "code",
   "execution_count": 3,
   "id": "fe6a9139-e67b-4017-91ff-6da70dcd93d7",
   "metadata": {},
   "outputs": [],
   "source": [
    "drop_cols = ['Date', 'Weekly_Sales']\n",
    "X = train.drop(columns=[col for col in drop_cols if col in train.columns])\n",
    "y = train[\"Weekly_Sales\"]\n",
    "\n",
    "corr = train.corr(numeric_only=True)[\"Weekly_Sales\"].abs().sort_values(ascending=False)\n",
    "keep_features = [col for col in corr.index if col != \"Weekly_Sales\" and col in X.columns and corr[col] > 0.02]\n",
    "\n",
    "X = X[keep_features]\n",
    "test_X = test[X.columns]\n"
   ]
  },
  {
   "cell_type": "code",
   "execution_count": 7,
   "id": "38ec8a69-46b8-4a12-b87e-88a56c88e4f1",
   "metadata": {},
   "outputs": [],
   "source": [
    "test_X.to_csv(\"data/test_lightGBM.csv\", index=False)"
   ]
  },
  {
   "cell_type": "markdown",
   "id": "fb0b38b3-e10e-4ce6-b4fa-2bd440416297",
   "metadata": {},
   "source": [
    "# Training and logging helper"
   ]
  },
  {
   "cell_type": "code",
   "execution_count": 4,
   "id": "45600353-801e-4a88-b199-dde6c72666bd",
   "metadata": {},
   "outputs": [],
   "source": [
    "from lightgbm import LGBMRegressor\n",
    "\n",
    "def train_and_log_model(model, model_name, params):\n",
    "    with mlflow.start_run(run_name=model_name):\n",
    "        mlflow.log_param(\"model_type\", model_name)\n",
    "        for k, v in params.items():\n",
    "            mlflow.log_param(k, v)\n",
    "\n",
    "        X_train, X_val, y_train, y_val = train_test_split(X, y, shuffle=False, test_size=0.2)\n",
    "\n",
    "        model.fit(X_train, y_train)\n",
    "\n",
    "        preds = model.predict(X_val)\n",
    "        mae = mean_absolute_error(y_val, preds)\n",
    "        mlflow.log_metric(\"MAE\", mae)\n",
    "\n",
    "        pipeline = Pipeline(steps=[(\"model\", model)])\n",
    "        registered_model_name = f\"LightGBM_Walmart_{model_name}\"\n",
    "        mlflow.sklearn.log_model(\n",
    "            pipeline,\n",
    "            artifact_path=model_name,\n",
    "            registered_model_name=registered_model_name\n",
    "        )\n",
    "\n",
    "        print(f\"Model MAE: {mae:.2f}\")\n"
   ]
  },
  {
   "cell_type": "markdown",
   "id": "b9387816-a4e2-446a-b1e9-54b287c51cce",
   "metadata": {},
   "source": [
    "# Training "
   ]
  },
  {
   "cell_type": "code",
   "execution_count": 5,
   "id": "fde9384e-fac5-4ab0-9fb9-3db44822a038",
   "metadata": {},
   "outputs": [
    {
     "name": "stdout",
     "output_type": "stream",
     "text": [
      "[LightGBM] [Info] Auto-choosing row-wise multi-threading, the overhead of testing was 0.003218 seconds.\n",
      "You can set `force_row_wise=true` to remove the overhead.\n",
      "And if memory is not enough, you can set `force_col_wise=true`.\n",
      "[LightGBM] [Info] Total Bins 1989\n",
      "[LightGBM] [Info] Number of data points in the train set: 337256, number of used features: 12\n",
      "[LightGBM] [Info] Start training from score 16782.304486\n"
     ]
    },
    {
     "name": "stderr",
     "output_type": "stream",
     "text": [
      "\u001b[31m2025/07/16 13:02:50 WARNING mlflow.models.model: Model logged without a signature and input example. Please set `input_example` parameter when logging the model to auto infer the model signature.\u001b[0m\n",
      "Registered model 'LightGBM_Walmart_LightGBM_V1' already exists. Creating a new version of this model...\n",
      "2025/07/16 13:02:55 INFO mlflow.store.model_registry.abstract_store: Waiting up to 300 seconds for model version to finish creation. Model name: LightGBM_Walmart_LightGBM_V1, version 3\n",
      "Created version '3' of model 'LightGBM_Walmart_LightGBM_V1'.\n"
     ]
    },
    {
     "name": "stdout",
     "output_type": "stream",
     "text": [
      "Model MAE: 6159.55\n",
      "🏃 View run LightGBM_V1 at: https://dagshub.com/TomC333/ml-walmart-recruiting.mlflow/#/experiments/0/runs/97628900516e4f29b7cca756a683e4f3\n",
      "🧪 View experiment at: https://dagshub.com/TomC333/ml-walmart-recruiting.mlflow/#/experiments/0\n",
      "[LightGBM] [Info] Auto-choosing row-wise multi-threading, the overhead of testing was 0.003701 seconds.\n",
      "You can set `force_row_wise=true` to remove the overhead.\n",
      "And if memory is not enough, you can set `force_col_wise=true`.\n",
      "[LightGBM] [Info] Total Bins 1989\n",
      "[LightGBM] [Info] Number of data points in the train set: 337256, number of used features: 12\n",
      "[LightGBM] [Info] Start training from score 16782.304486\n"
     ]
    },
    {
     "name": "stderr",
     "output_type": "stream",
     "text": [
      "\u001b[31m2025/07/16 13:03:20 WARNING mlflow.models.model: Model logged without a signature and input example. Please set `input_example` parameter when logging the model to auto infer the model signature.\u001b[0m\n",
      "Registered model 'LightGBM_Walmart_LightGBM_V2' already exists. Creating a new version of this model...\n",
      "2025/07/16 13:03:26 INFO mlflow.store.model_registry.abstract_store: Waiting up to 300 seconds for model version to finish creation. Model name: LightGBM_Walmart_LightGBM_V2, version 3\n",
      "Created version '3' of model 'LightGBM_Walmart_LightGBM_V2'.\n"
     ]
    },
    {
     "name": "stdout",
     "output_type": "stream",
     "text": [
      "Model MAE: 5345.37\n",
      "🏃 View run LightGBM_V2 at: https://dagshub.com/TomC333/ml-walmart-recruiting.mlflow/#/experiments/0/runs/2fe3a263b86a4d3a9fcd161b3c96a6d6\n",
      "🧪 View experiment at: https://dagshub.com/TomC333/ml-walmart-recruiting.mlflow/#/experiments/0\n",
      "[LightGBM] [Info] Auto-choosing row-wise multi-threading, the overhead of testing was 0.003465 seconds.\n",
      "You can set `force_row_wise=true` to remove the overhead.\n",
      "And if memory is not enough, you can set `force_col_wise=true`.\n",
      "[LightGBM] [Info] Total Bins 1989\n",
      "[LightGBM] [Info] Number of data points in the train set: 337256, number of used features: 12\n",
      "[LightGBM] [Info] Start training from score 16782.304486\n"
     ]
    },
    {
     "name": "stderr",
     "output_type": "stream",
     "text": [
      "\u001b[31m2025/07/16 13:03:44 WARNING mlflow.models.model: Model logged without a signature and input example. Please set `input_example` parameter when logging the model to auto infer the model signature.\u001b[0m\n",
      "Registered model 'LightGBM_Walmart_LightGBM_V3' already exists. Creating a new version of this model...\n",
      "2025/07/16 13:03:48 INFO mlflow.store.model_registry.abstract_store: Waiting up to 300 seconds for model version to finish creation. Model name: LightGBM_Walmart_LightGBM_V3, version 3\n",
      "Created version '3' of model 'LightGBM_Walmart_LightGBM_V3'.\n"
     ]
    },
    {
     "name": "stdout",
     "output_type": "stream",
     "text": [
      "Model MAE: 6110.37\n",
      "🏃 View run LightGBM_V3 at: https://dagshub.com/TomC333/ml-walmart-recruiting.mlflow/#/experiments/0/runs/4d8ae03129794168ba9b9f70610d3609\n",
      "🧪 View experiment at: https://dagshub.com/TomC333/ml-walmart-recruiting.mlflow/#/experiments/0\n",
      "[LightGBM] [Warning] bagging_freq is set=5, subsample_freq=0 will be ignored. Current value: bagging_freq=5\n",
      "[LightGBM] [Warning] feature_fraction is set=0.8, colsample_bytree=1.0 will be ignored. Current value: feature_fraction=0.8\n",
      "[LightGBM] [Warning] bagging_fraction is set=0.8, subsample=1.0 will be ignored. Current value: bagging_fraction=0.8\n",
      "[LightGBM] [Warning] bagging_freq is set=5, subsample_freq=0 will be ignored. Current value: bagging_freq=5\n",
      "[LightGBM] [Warning] feature_fraction is set=0.8, colsample_bytree=1.0 will be ignored. Current value: feature_fraction=0.8\n",
      "[LightGBM] [Warning] bagging_fraction is set=0.8, subsample=1.0 will be ignored. Current value: bagging_fraction=0.8\n",
      "[LightGBM] [Info] Auto-choosing row-wise multi-threading, the overhead of testing was 0.003406 seconds.\n",
      "You can set `force_row_wise=true` to remove the overhead.\n",
      "And if memory is not enough, you can set `force_col_wise=true`.\n",
      "[LightGBM] [Info] Total Bins 1989\n",
      "[LightGBM] [Info] Number of data points in the train set: 337256, number of used features: 12\n",
      "[LightGBM] [Info] Start training from score 16782.304486\n",
      "[LightGBM] [Warning] bagging_freq is set=5, subsample_freq=0 will be ignored. Current value: bagging_freq=5\n",
      "[LightGBM] [Warning] feature_fraction is set=0.8, colsample_bytree=1.0 will be ignored. Current value: feature_fraction=0.8\n",
      "[LightGBM] [Warning] bagging_fraction is set=0.8, subsample=1.0 will be ignored. Current value: bagging_fraction=0.8\n"
     ]
    },
    {
     "name": "stderr",
     "output_type": "stream",
     "text": [
      "\u001b[31m2025/07/16 13:04:27 WARNING mlflow.models.model: Model logged without a signature and input example. Please set `input_example` parameter when logging the model to auto infer the model signature.\u001b[0m\n",
      "Registered model 'LightGBM_Walmart_LightGBM_V4' already exists. Creating a new version of this model...\n",
      "2025/07/16 13:04:33 INFO mlflow.store.model_registry.abstract_store: Waiting up to 300 seconds for model version to finish creation. Model name: LightGBM_Walmart_LightGBM_V4, version 2\n",
      "Created version '2' of model 'LightGBM_Walmart_LightGBM_V4'.\n"
     ]
    },
    {
     "name": "stdout",
     "output_type": "stream",
     "text": [
      "Model MAE: 5224.12\n",
      "🏃 View run LightGBM_V4 at: https://dagshub.com/TomC333/ml-walmart-recruiting.mlflow/#/experiments/0/runs/605aa527e98049a7af67217d46cebf78\n",
      "🧪 View experiment at: https://dagshub.com/TomC333/ml-walmart-recruiting.mlflow/#/experiments/0\n",
      "[LightGBM] [Warning] bagging_freq is set=3, subsample_freq=0 will be ignored. Current value: bagging_freq=3\n",
      "[LightGBM] [Warning] feature_fraction is set=0.9, colsample_bytree=1.0 will be ignored. Current value: feature_fraction=0.9\n",
      "[LightGBM] [Warning] bagging_fraction is set=0.9, subsample=1.0 will be ignored. Current value: bagging_fraction=0.9\n",
      "[LightGBM] [Warning] bagging_freq is set=3, subsample_freq=0 will be ignored. Current value: bagging_freq=3\n",
      "[LightGBM] [Warning] feature_fraction is set=0.9, colsample_bytree=1.0 will be ignored. Current value: feature_fraction=0.9\n",
      "[LightGBM] [Warning] bagging_fraction is set=0.9, subsample=1.0 will be ignored. Current value: bagging_fraction=0.9\n",
      "[LightGBM] [Info] Auto-choosing row-wise multi-threading, the overhead of testing was 0.003233 seconds.\n",
      "You can set `force_row_wise=true` to remove the overhead.\n",
      "And if memory is not enough, you can set `force_col_wise=true`.\n",
      "[LightGBM] [Info] Total Bins 1989\n",
      "[LightGBM] [Info] Number of data points in the train set: 337256, number of used features: 12\n",
      "[LightGBM] [Info] Start training from score 16782.304486\n",
      "[LightGBM] [Warning] No further splits with positive gain, best gain: -inf\n",
      "[LightGBM] [Warning] No further splits with positive gain, best gain: -inf\n",
      "[LightGBM] [Warning] No further splits with positive gain, best gain: -inf\n",
      "[LightGBM] [Warning] No further splits with positive gain, best gain: -inf\n",
      "[LightGBM] [Warning] bagging_freq is set=3, subsample_freq=0 will be ignored. Current value: bagging_freq=3\n",
      "[LightGBM] [Warning] feature_fraction is set=0.9, colsample_bytree=1.0 will be ignored. Current value: feature_fraction=0.9\n",
      "[LightGBM] [Warning] bagging_fraction is set=0.9, subsample=1.0 will be ignored. Current value: bagging_fraction=0.9\n"
     ]
    },
    {
     "name": "stderr",
     "output_type": "stream",
     "text": [
      "\u001b[31m2025/07/16 13:04:49 WARNING mlflow.models.model: Model logged without a signature and input example. Please set `input_example` parameter when logging the model to auto infer the model signature.\u001b[0m\n",
      "Successfully registered model 'LightGBM_Walmart_LightGBM_V5'.\n",
      "2025/07/16 13:04:54 INFO mlflow.store.model_registry.abstract_store: Waiting up to 300 seconds for model version to finish creation. Model name: LightGBM_Walmart_LightGBM_V5, version 1\n",
      "Created version '1' of model 'LightGBM_Walmart_LightGBM_V5'.\n"
     ]
    },
    {
     "name": "stdout",
     "output_type": "stream",
     "text": [
      "Model MAE: 6058.77\n",
      "🏃 View run LightGBM_V5 at: https://dagshub.com/TomC333/ml-walmart-recruiting.mlflow/#/experiments/0/runs/e527fce0aaa64e7583a5c260f71ef07a\n",
      "🧪 View experiment at: https://dagshub.com/TomC333/ml-walmart-recruiting.mlflow/#/experiments/0\n",
      "[LightGBM] [Warning] bagging_freq is set=0, subsample_freq=0 will be ignored. Current value: bagging_freq=0\n",
      "[LightGBM] [Warning] feature_fraction is set=0.7, colsample_bytree=1.0 will be ignored. Current value: feature_fraction=0.7\n",
      "[LightGBM] [Warning] bagging_fraction is set=1.0, subsample=1.0 will be ignored. Current value: bagging_fraction=1.0\n",
      "[LightGBM] [Warning] bagging_freq is set=0, subsample_freq=0 will be ignored. Current value: bagging_freq=0\n",
      "[LightGBM] [Warning] feature_fraction is set=0.7, colsample_bytree=1.0 will be ignored. Current value: feature_fraction=0.7\n",
      "[LightGBM] [Warning] bagging_fraction is set=1.0, subsample=1.0 will be ignored. Current value: bagging_fraction=1.0\n",
      "[LightGBM] [Info] Auto-choosing row-wise multi-threading, the overhead of testing was 0.003288 seconds.\n",
      "You can set `force_row_wise=true` to remove the overhead.\n",
      "And if memory is not enough, you can set `force_col_wise=true`.\n",
      "[LightGBM] [Info] Total Bins 1989\n",
      "[LightGBM] [Info] Number of data points in the train set: 337256, number of used features: 12\n",
      "[LightGBM] [Info] Start training from score 16782.304486\n",
      "[LightGBM] [Warning] bagging_freq is set=0, subsample_freq=0 will be ignored. Current value: bagging_freq=0\n",
      "[LightGBM] [Warning] feature_fraction is set=0.7, colsample_bytree=1.0 will be ignored. Current value: feature_fraction=0.7\n",
      "[LightGBM] [Warning] bagging_fraction is set=1.0, subsample=1.0 will be ignored. Current value: bagging_fraction=1.0\n"
     ]
    },
    {
     "name": "stderr",
     "output_type": "stream",
     "text": [
      "\u001b[31m2025/07/16 13:05:34 WARNING mlflow.models.model: Model logged without a signature and input example. Please set `input_example` parameter when logging the model to auto infer the model signature.\u001b[0m\n",
      "Successfully registered model 'LightGBM_Walmart_LightGBM_V6'.\n",
      "2025/07/16 13:05:42 INFO mlflow.store.model_registry.abstract_store: Waiting up to 300 seconds for model version to finish creation. Model name: LightGBM_Walmart_LightGBM_V6, version 1\n",
      "Created version '1' of model 'LightGBM_Walmart_LightGBM_V6'.\n"
     ]
    },
    {
     "name": "stdout",
     "output_type": "stream",
     "text": [
      "Model MAE: 5008.50\n",
      "🏃 View run LightGBM_V6 at: https://dagshub.com/TomC333/ml-walmart-recruiting.mlflow/#/experiments/0/runs/d4b3848a632147a482bd34fdf5868516\n",
      "🧪 View experiment at: https://dagshub.com/TomC333/ml-walmart-recruiting.mlflow/#/experiments/0\n"
     ]
    }
   ],
   "source": [
    "params1 = {\n",
    "    \"n_estimators\": 1000,\n",
    "    \"learning_rate\": 0.05,\n",
    "    \"max_depth\": 7,\n",
    "    \"num_leaves\": 31\n",
    "}\n",
    "\n",
    "params2 = {\n",
    "    \"n_estimators\": 1500,\n",
    "    \"learning_rate\": 0.03,\n",
    "    \"max_depth\": 10,\n",
    "    \"num_leaves\": 60,\n",
    "    \"colsample_bytree\": 0.8,\n",
    "    \"subsample\": 0.8\n",
    "}\n",
    "\n",
    "params3 = {\n",
    "    \"n_estimators\": 1200,\n",
    "    \"learning_rate\": 0.03,\n",
    "    \"max_depth\": 8,\n",
    "    \"num_leaves\": 50,\n",
    "    \"reg_alpha\": 0.5,\n",
    "    \"reg_lambda\": 1.0,\n",
    "    \"min_child_samples\": 30\n",
    "}\n",
    "\n",
    "params4 = {\n",
    "    \"n_estimators\": 1800,\n",
    "    \"learning_rate\": 0.025,\n",
    "    \"max_depth\": 12,\n",
    "    \"num_leaves\": 70,\n",
    "    \"feature_fraction\": 0.8,\n",
    "    \"bagging_fraction\": 0.8,\n",
    "    \"bagging_freq\": 5,\n",
    "    \"reg_alpha\": 0.1,\n",
    "    \"reg_lambda\": 0.5,\n",
    "    \"min_child_samples\": 20,\n",
    "    \"random_state\": 42,\n",
    "}\n",
    "\n",
    "params5 = {\n",
    "    \"n_estimators\": 900,\n",
    "    \"learning_rate\": 0.07,\n",
    "    \"max_depth\": 6,\n",
    "    \"num_leaves\": 25,\n",
    "    \"feature_fraction\": 0.9,\n",
    "    \"bagging_fraction\": 0.9,\n",
    "    \"bagging_freq\": 3,\n",
    "    \"reg_alpha\": 0,\n",
    "    \"reg_lambda\": 0,\n",
    "    \"min_child_samples\": 40,\n",
    "    \"random_state\": 42,\n",
    "}\n",
    "\n",
    "params6 = {\n",
    "    \"n_estimators\": 1400,\n",
    "    \"learning_rate\": 0.015,\n",
    "    \"max_depth\": 15,\n",
    "    \"num_leaves\": 80,\n",
    "    \"feature_fraction\": 0.7,\n",
    "    \"bagging_fraction\": 1.0,\n",
    "    \"bagging_freq\": 0,\n",
    "    \"reg_alpha\": 0.3,\n",
    "    \"reg_lambda\": 1.5,\n",
    "    \"min_child_samples\": 25,\n",
    "    \"random_state\": 42,\n",
    "}\n",
    "\n",
    "model1 = LGBMRegressor(**params1)\n",
    "train_and_log_model(model1, \"LightGBM_V1\", params1)\n",
    "\n",
    "model2 = LGBMRegressor(**params2)\n",
    "train_and_log_model(model2, \"LightGBM_V2\", params2)\n",
    "\n",
    "model3 = LGBMRegressor(**params3)\n",
    "train_and_log_model(model3, \"LightGBM_V3\", params3)\n",
    "\n",
    "model4 = LGBMRegressor(**params4)\n",
    "train_and_log_model(model4, \"LightGBM_V4\", params4)\n",
    "\n",
    "model5 = LGBMRegressor(**params5)\n",
    "train_and_log_model(model5, \"LightGBM_V5\", params5)\n",
    "\n",
    "model6 = LGBMRegressor(**params6)\n",
    "train_and_log_model(model6, \"LightGBM_V6\", params6)"
   ]
  }
 ],
 "metadata": {
  "kernelspec": {
   "display_name": "Python 3 (ipykernel)",
   "language": "python",
   "name": "python3"
  },
  "language_info": {
   "codemirror_mode": {
    "name": "ipython",
    "version": 3
   },
   "file_extension": ".py",
   "mimetype": "text/x-python",
   "name": "python",
   "nbconvert_exporter": "python",
   "pygments_lexer": "ipython3",
   "version": "3.12.7"
  }
 },
 "nbformat": 4,
 "nbformat_minor": 5
}
