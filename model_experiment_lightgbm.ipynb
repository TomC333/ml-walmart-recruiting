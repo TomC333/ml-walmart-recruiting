{
 "cells": [
  {
   "cell_type": "code",
   "execution_count": 2,
   "id": "31b9d589-682e-49ed-9051-2d9feb832b3d",
   "metadata": {},
   "outputs": [
    {
     "data": {
      "text/html": [
       "<pre style=\"white-space:pre;overflow-x:auto;line-height:normal;font-family:Menlo,'DejaVu Sans Mono',consolas,'Courier New',monospace\">Accessing as TomC333\n",
       "</pre>\n"
      ],
      "text/plain": [
       "Accessing as TomC333\n"
      ]
     },
     "metadata": {},
     "output_type": "display_data"
    },
    {
     "data": {
      "text/html": [
       "<pre style=\"white-space:pre;overflow-x:auto;line-height:normal;font-family:Menlo,'DejaVu Sans Mono',consolas,'Courier New',monospace\">Initialized MLflow to track repo <span style=\"color: #008000; text-decoration-color: #008000\">\"TomC333/ml-walmart-recruiting\"</span>\n",
       "</pre>\n"
      ],
      "text/plain": [
       "Initialized MLflow to track repo \u001b[32m\"TomC333/ml-walmart-recruiting\"\u001b[0m\n"
      ]
     },
     "metadata": {},
     "output_type": "display_data"
    },
    {
     "data": {
      "text/html": [
       "<pre style=\"white-space:pre;overflow-x:auto;line-height:normal;font-family:Menlo,'DejaVu Sans Mono',consolas,'Courier New',monospace\">Repository TomC333/ml-walmart-recruiting initialized!\n",
       "</pre>\n"
      ],
      "text/plain": [
       "Repository TomC333/ml-walmart-recruiting initialized!\n"
      ]
     },
     "metadata": {},
     "output_type": "display_data"
    },
    {
     "data": {
      "text/plain": [
       "<Experiment: artifact_location='mlflow-artifacts:/a6ac5c16ccea4c5bb25044e7e2926bca', creation_time=1753995797392, experiment_id='8', last_update_time=1753995797392, lifecycle_stage='active', name='LightGBM_Iterative_Baseline', tags={}>"
      ]
     },
     "execution_count": 2,
     "metadata": {},
     "output_type": "execute_result"
    }
   ],
   "source": [
    "import pandas as pd\n",
    "import lightgbm as lgb\n",
    "from sklearn.model_selection import train_test_split\n",
    "from sklearn.metrics import mean_absolute_error\n",
    "import mlflow\n",
    "import dagshub\n",
    "\n",
    "dagshub.init(repo_owner='TomC333', repo_name='ml-walmart-recruiting', mlflow=True)\n",
    "mlflow.set_experiment(\"LightGBM_Iterative_Baseline\")"
   ]
  },
  {
   "cell_type": "markdown",
   "id": "d190746f-1462-472a-89f9-8fbd6f1bf7d5",
   "metadata": {},
   "source": [
    "# Load and preprocess data"
   ]
  },
  {
   "cell_type": "code",
   "execution_count": 3,
   "id": "393b8b2d-5c04-4876-a2b8-9a2b3edf04c5",
   "metadata": {},
   "outputs": [],
   "source": [
    "features_data = pd.read_csv('data/features.csv')\n",
    "train_data = pd.read_csv('data/train.csv')\n",
    "stores = pd.read_csv('data/stores.csv')\n",
    "\n",
    "df = train_data.merge(features_data, on=['Store', 'Date'], how='inner').merge(stores, on=['Store'], how='inner')\n",
    "\n",
    "if 'IsHoliday_y' in df.columns:\n",
    "    df.drop(['IsHoliday_y'], axis=1, inplace=True)\n",
    "    df.rename(columns={'IsHoliday_x': 'IsHoliday'}, inplace=True)\n",
    "\n",
    "df['Date'] = pd.to_datetime(df['Date'])\n",
    "df = df.sort_values(['Store', 'Dept', 'Date'])\n",
    "df = df[df['Weekly_Sales'] >= 0]"
   ]
  },
  {
   "cell_type": "code",
   "execution_count": 4,
   "id": "69ce723f-b902-434e-844c-15df86660d36",
   "metadata": {},
   "outputs": [
    {
     "name": "stdout",
     "output_type": "stream",
     "text": [
      "Merged dataset shape: (420285, 16)\n",
      "Date range: 2010-02-05 00:00:00 to 2012-10-26 00:00:00\n"
     ]
    }
   ],
   "source": [
    "print(f\"Merged dataset shape: {df.shape}\")\n",
    "print(f\"Date range: {df['Date'].min()} to {df['Date'].max()}\")"
   ]
  },
  {
   "cell_type": "markdown",
   "id": "fb4c221c-f911-468d-b9a9-f5e7388c3602",
   "metadata": {},
   "source": [
    "# Step 0, use a few features"
   ]
  },
  {
   "cell_type": "code",
   "execution_count": 8,
   "id": "66577fbe-5279-4d81-ab0f-055c1974d9c6",
   "metadata": {},
   "outputs": [
    {
     "name": "stderr",
     "output_type": "stream",
     "text": [
      "\u001b[31m2025/08/01 01:07:50 WARNING mlflow.models.model: Model logged without a signature and input example. Please set `input_example` parameter when logging the model to auto infer the model signature.\u001b[0m\n"
     ]
    },
    {
     "name": "stdout",
     "output_type": "stream",
     "text": [
      "Step 0 MAE: 2960.6041\n",
      "🏃 View run Step0_Baseline at: https://dagshub.com/TomC333/ml-walmart-recruiting.mlflow/#/experiments/8/runs/3a51ba8221744c1f8003cc52b5d2bb02\n",
      "🧪 View experiment at: https://dagshub.com/TomC333/ml-walmart-recruiting.mlflow/#/experiments/8\n"
     ]
    }
   ],
   "source": [
    "features_step0 = ['Store', 'Dept', 'IsHoliday']\n",
    "target = 'Weekly_Sales'\n",
    "\n",
    "X = df[features_step0]\n",
    "y = df[target]\n",
    "\n",
    "# Train-validation split\n",
    "X_train, X_val, y_train, y_val = train_test_split(\n",
    "    X, y, test_size=0.2, random_state=42\n",
    ")\n",
    "\n",
    "# Train LightGBM with basic parameters\n",
    "with mlflow.start_run(run_name=\"Step0_Baseline\"):\n",
    "    train_set = lgb.Dataset(X_train, label=y_train)\n",
    "    val_set = lgb.Dataset(X_val, label=y_val)\n",
    "\n",
    "    params = {\n",
    "        \"objective\": \"regression\",\n",
    "        \"metric\": \"mae\",\n",
    "        \"verbosity\": -1,\n",
    "        \"boosting_type\": \"gbdt\",\n",
    "        \"learning_rate\": 0.1,\n",
    "        \"num_leaves\": 31,\n",
    "        \"seed\": 42\n",
    "    }\n",
    "\n",
    "    model = lgb.train(\n",
    "        params,\n",
    "        train_set,\n",
    "        valid_sets=[train_set, val_set],\n",
    "        valid_names=[\"train\", \"val\"],\n",
    "        num_boost_round=1000\n",
    "    )\n",
    "\n",
    "    y_pred = model.predict(X_val)\n",
    "    mae = mean_absolute_error(y_val, y_pred)\n",
    "\n",
    "    mlflow.log_params(params)\n",
    "    mlflow.log_metric(\"mae\", mae)\n",
    "    mlflow.lightgbm.log_model(model, \"model\")\n",
    "\n",
    "    print(f\"Step 0 MAE: {mae:.4f}\")\n"
   ]
  },
  {
   "cell_type": "markdown",
   "id": "986ab098-f04d-42d9-ada5-0fa09a9be3ea",
   "metadata": {},
   "source": [
    "# Step 1, add time based features"
   ]
  },
  {
   "cell_type": "code",
   "execution_count": 9,
   "id": "f6356f46-2336-407e-b888-0951a6972fb9",
   "metadata": {},
   "outputs": [],
   "source": [
    "# Step 1: Added explicit time-based features (Year, Month, Week, Quarter)\n",
    "# to help LightGBM capture seasonal and yearly sales patterns, which\n",
    "# are critical in retail time series forecasting."
   ]
  },
  {
   "cell_type": "code",
   "execution_count": 12,
   "id": "95aba799-280e-4dff-a496-448ba05087ff",
   "metadata": {},
   "outputs": [
    {
     "name": "stderr",
     "output_type": "stream",
     "text": [
      "\u001b[31m2025/08/01 01:13:08 WARNING mlflow.models.model: Model logged without a signature and input example. Please set `input_example` parameter when logging the model to auto infer the model signature.\u001b[0m\n"
     ]
    },
    {
     "name": "stdout",
     "output_type": "stream",
     "text": [
      "Step 1 MAE: 2960.6041\n",
      "🏃 View run Step1_Add_Time_Features at: https://dagshub.com/TomC333/ml-walmart-recruiting.mlflow/#/experiments/8/runs/a8c35c694ea144029447b1be4b3c58cd\n",
      "🧪 View experiment at: https://dagshub.com/TomC333/ml-walmart-recruiting.mlflow/#/experiments/8\n"
     ]
    }
   ],
   "source": [
    "df['Year'] = df['Date'].dt.year\n",
    "df['Month'] = df['Date'].dt.month\n",
    "df['Week'] = df['Date'].dt.isocalendar().week\n",
    "df['Quarter'] = df['Date'].dt.quarter\n",
    "\n",
    "features_step1 = [\n",
    "    'Store', 'Dept', 'IsHoliday',\n",
    "    'Year', 'Month', 'Week', 'Quarter'\n",
    "]\n",
    "\n",
    "X = df[features_step1]\n",
    "y = df[target]\n",
    "\n",
    "with mlflow.start_run(run_name=\"Step1_Add_Time_Features\"):\n",
    "    train_set = lgb.Dataset(X_train, label=y_train)\n",
    "    val_set = lgb.Dataset(X_val, label=y_val)\n",
    "\n",
    "    params = {\n",
    "        \"objective\": \"regression\",\n",
    "        \"metric\": \"mae\",\n",
    "        \"verbosity\": -1,\n",
    "        \"boosting_type\": \"gbdt\",\n",
    "        \"learning_rate\": 0.1,\n",
    "        \"num_leaves\": 31,\n",
    "        \"seed\": 42\n",
    "    }\n",
    "\n",
    "    model = lgb.train(\n",
    "        params,\n",
    "        train_set,\n",
    "        valid_sets=[train_set, val_set],\n",
    "        valid_names=[\"train\", \"val\"],\n",
    "        num_boost_round=1000\n",
    "    )\n",
    "\n",
    "    y_pred = model.predict(X_val)\n",
    "    mae = mean_absolute_error(y_val, y_pred)\n",
    "\n",
    "    mlflow.log_params(params)\n",
    "    mlflow.log_metric(\"mae\", mae)\n",
    "    mlflow.lightgbm.log_model(model, \"model\")\n",
    "\n",
    "    print(f\"Step 1 MAE: {mae:.4f}\")\n"
   ]
  },
  {
   "cell_type": "markdown",
   "id": "e3959a5f-9122-456d-b173-adf035cb7ccf",
   "metadata": {},
   "source": [
    "# Step 2, add lag features"
   ]
  },
  {
   "cell_type": "code",
   "execution_count": 15,
   "id": "4ac7dd26-37c3-42e1-800b-1ae07527b007",
   "metadata": {},
   "outputs": [],
   "source": [
    "# Step 2: Added lag features for Weekly_Sales to capture temporal dependencies and seasonality.\n",
    "# These lag features are essential for time series forecasting models to utilize recent sales\n",
    "# trends and yearly patterns. This step helps LightGBM learn from historical sales context that\n",
    "# basic store, department, and time features alone cannot provide."
   ]
  },
  {
   "cell_type": "code",
   "execution_count": 9,
   "id": "a7d814a5-dfdc-43e1-a7b6-4c9f244d84af",
   "metadata": {},
   "outputs": [
    {
     "name": "stdout",
     "output_type": "stream",
     "text": [
      "Lag features created and NaNs dropped.\n"
     ]
    }
   ],
   "source": [
    "lags = [1, 2, 3, 4, 52]\n",
    "\n",
    "for lag in lags:\n",
    "    df[f'Weekly_Sales_lag_{lag}'] = df.groupby(['Store', 'Dept'])['Weekly_Sales'].shift(lag)\n",
    "\n",
    "# After creating lag features, you might want to drop rows with NaNs caused by lagging\n",
    "df = df.dropna(subset=[f'Weekly_Sales_lag_{lag}' for lag in lags])\n",
    "\n",
    "print(\"Lag features created and NaNs dropped.\")"
   ]
  },
  {
   "cell_type": "code",
   "execution_count": 11,
   "id": "aca3d1ef-6f60-4945-91d2-cfc0a2dcc8b3",
   "metadata": {},
   "outputs": [
    {
     "name": "stderr",
     "output_type": "stream",
     "text": [
      "\u001b[31m2025/08/03 09:54:09 WARNING mlflow.models.model: Model logged without a signature and input example. Please set `input_example` parameter when logging the model to auto infer the model signature.\u001b[0m\n"
     ]
    },
    {
     "name": "stdout",
     "output_type": "stream",
     "text": [
      "Step 2 MAE: 1054.3717\n",
      "🏃 View run Step2_Add_Lag_Features at: https://dagshub.com/TomC333/ml-walmart-recruiting.mlflow/#/experiments/8/runs/915c56ff394143df874d90b331b87f71\n",
      "🧪 View experiment at: https://dagshub.com/TomC333/ml-walmart-recruiting.mlflow/#/experiments/8\n"
     ]
    },
    {
     "data": {
      "image/png": "[encoded data removed]",
      "text/plain": [
       "<Figure size 800x600 with 1 Axes>"
      ]
     },
     "metadata": {},
     "output_type": "display_data"
    },
    {
     "data": {
      "image/png": "[encoded data removed]",
      "text/plain": [
       "<Figure size 800x600 with 1 Axes>"
      ]
     },
     "metadata": {},
     "output_type": "display_data"
    },
    {
     "data": {
      "image/png": "[encoded data removed]",
      "text/plain": [
       "<Figure size 1000x600 with 1 Axes>"
      ]
     },
     "metadata": {},
     "output_type": "display_data"
    }
   ],
   "source": [
    "import matplotlib.pyplot as plt\n",
    "import seaborn as sns\n",
    "import mlflow\n",
    "import mlflow.lightgbm\n",
    "import lightgbm as lgb\n",
    "import pandas as pd\n",
    "import numpy as np\n",
    "from sklearn.metrics import mean_absolute_error\n",
    "\n",
    "features_step2 = [\n",
    "    'Store', 'Dept', 'IsHoliday',\n",
    "    'Year', 'Month', 'Week', 'Quarter',\n",
    "    'Weekly_Sales_lag_1', 'Weekly_Sales_lag_2', 'Weekly_Sales_lag_3', 'Weekly_Sales_lag_4', 'Weekly_Sales_lag_52'\n",
    "]\n",
    "\n",
    "X = df[features_step2]\n",
    "y = df['Weekly_Sales']\n",
    "\n",
    "with mlflow.start_run(run_name=\"Step2_Add_Lag_Features\"):\n",
    "    lgb_train = lgb.Dataset(X, label=y)\n",
    "    params = {\n",
    "        'objective': 'regression',\n",
    "        'metric': 'mae',\n",
    "        'random_state': 42,\n",
    "        'verbosity': -1,\n",
    "    }\n",
    "    model = lgb.train(params, lgb_train, num_boost_round=1000)\n",
    "    \n",
    "    preds = model.predict(X)\n",
    "    mae = mean_absolute_error(y, preds)\n",
    "    \n",
    "    mlflow.log_params(params)\n",
    "    mlflow.log_metric(\"MAE\", mae)\n",
    "    mlflow.lightgbm.log_model(model, \"model\")\n",
    "    \n",
    "    print(f\"Step 2 MAE: {mae:.4f}\")\n",
    "    \n",
    "    # 1. Actual vs Predicted\n",
    "    plt.figure(figsize=(8, 6))\n",
    "    sns.scatterplot(x=y, y=preds, alpha=0.3)\n",
    "    plt.xlabel(\"Actual Weekly Sales\")\n",
    "    plt.ylabel(\"Predicted Weekly Sales\")\n",
    "    plt.title(\"Actual vs Predicted Sales\")\n",
    "    plt.grid(True)\n",
    "    plt.plot([y.min(), y.max()], [y.min(), y.max()], 'r--')\n",
    "    plt.tight_layout()\n",
    "    plt.savefig(\"actual_vs_pred.png\")\n",
    "    mlflow.log_artifact(\"actual_vs_pred.png\")\n",
    "    \n",
    "    # 2. Residual Plot\n",
    "    residuals = y - preds\n",
    "    plt.figure(figsize=(8, 6))\n",
    "    sns.histplot(residuals, bins=50, kde=True)\n",
    "    plt.title(\"Distribution of Residuals (y - y_pred)\")\n",
    "    plt.xlabel(\"Residual\")\n",
    "    plt.grid(True)\n",
    "    plt.tight_layout()\n",
    "    plt.savefig(\"residuals.png\")\n",
    "    mlflow.log_artifact(\"residuals.png\")\n",
    "    \n",
    "    # 3. Feature Importance\n",
    "    importances = model.feature_importance()\n",
    "    feature_names = model.feature_name()\n",
    "    \n",
    "    plt.figure(figsize=(10, 6))\n",
    "    sns.barplot(x=importances, y=feature_names, orient=\"h\")\n",
    "    plt.title(\"LightGBM Feature Importance\")\n",
    "    plt.xlabel(\"Importance\")\n",
    "    plt.tight_layout()\n",
    "    plt.savefig(\"feature_importance.png\")\n",
    "    mlflow.log_artifact(\"feature_importance.png\")\n",
    "\n",
    "    "
   ]
  },
  {
   "cell_type": "code",
   "execution_count": 10,
   "id": "4fe18aa2-9e9f-4abf-a58c-1f700a454a08",
   "metadata": {},
   "outputs": [
    {
     "ename": "NameError",
     "evalue": "name 'preds' is not defined",
     "output_type": "error",
     "traceback": [
      "\u001b[31m---------------------------------------------------------------------------\u001b[39m",
      "\u001b[31mNameError\u001b[39m                                 Traceback (most recent call last)",
      "\u001b[36mCell\u001b[39m\u001b[36m \u001b[39m\u001b[32mIn[10]\u001b[39m\u001b[32m, line 12\u001b[39m\n\u001b[32m     10\u001b[39m \u001b[38;5;66;03m# 1. Actual vs Predicted\u001b[39;00m\n\u001b[32m     11\u001b[39m plt.figure(figsize=(\u001b[32m8\u001b[39m, \u001b[32m6\u001b[39m))\n\u001b[32m---> \u001b[39m\u001b[32m12\u001b[39m sns.scatterplot(x=y, y=\u001b[43mpreds\u001b[49m, alpha=\u001b[32m0.3\u001b[39m)\n\u001b[32m     13\u001b[39m plt.xlabel(\u001b[33m\"\u001b[39m\u001b[33mActual Weekly Sales\u001b[39m\u001b[33m\"\u001b[39m)\n\u001b[32m     14\u001b[39m plt.ylabel(\u001b[33m\"\u001b[39m\u001b[33mPredicted Weekly Sales\u001b[39m\u001b[33m\"\u001b[39m)\n",
      "\u001b[31mNameError\u001b[39m: name 'preds' is not defined"
     ]
    },
    {
     "data": {
      "text/plain": [
       "<Figure size 800x600 with 0 Axes>"
      ]
     },
     "metadata": {},
     "output_type": "display_data"
    }
   ],
   "source": [
    "import matplotlib.pyplot as plt\n",
    "import seaborn as sns\n",
    "import mlflow\n",
    "import mlflow.lightgbm\n",
    "import lightgbm as lgb\n",
    "import pandas as pd\n",
    "import numpy as np\n",
    "from sklearn.metrics import mean_absolute_error\n",
    "\n",
    "# 1. Actual vs Predicted\n",
    "plt.figure(figsize=(8, 6))\n",
    "sns.scatterplot(x=y, y=preds, alpha=0.3)\n",
    "plt.xlabel(\"Actual Weekly Sales\")\n",
    "plt.ylabel(\"Predicted Weekly Sales\")\n",
    "plt.title(\"Actual vs Predicted Sales\")\n",
    "plt.grid(True)\n",
    "plt.plot([y.min(), y.max()], [y.min(), y.max()], 'r--')\n",
    "plt.tight_layout()\n",
    "plt.savefig(\"actual_vs_pred.png\")\n",
    "mlflow.log_artifact(\"actual_vs_pred.png\")\n",
    "\n",
    "# 2. Residual Plot\n",
    "residuals = y - preds\n",
    "plt.figure(figsize=(8, 6))\n",
    "sns.histplot(residuals, bins=50, kde=True)\n",
    "plt.title(\"Distribution of Residuals (y - y_pred)\")\n",
    "plt.xlabel(\"Residual\")\n",
    "plt.grid(True)\n",
    "plt.tight_layout()\n",
    "plt.savefig(\"residuals.png\")\n",
    "mlflow.log_artifact(\"residuals.png\")\n",
    "\n",
    "# 3. Feature Importance\n",
    "importances = model.feature_importance()\n",
    "feature_names = model.feature_name()\n",
    "\n",
    "plt.figure(figsize=(10, 6))\n",
    "sns.barplot(x=importances, y=feature_names, orient=\"h\")\n",
    "plt.title(\"LightGBM Feature Importance\")\n",
    "plt.xlabel(\"Importance\")\n",
    "plt.tight_layout()\n",
    "plt.savefig(\"feature_importance.png\")\n",
    "mlflow.log_artifact(\"feature_importance.png\")\n"
   ]
  },
  {
   "cell_type": "markdown",
   "id": "de943200-0f60-4319-93e5-30937331afa3",
   "metadata": {},
   "source": [
    "# Step 3, add external factors"
   ]
  },
  {
   "cell_type": "code",
   "execution_count": 19,
   "id": "24f7098b-e09a-4a3a-8793-89b7704c22f9",
   "metadata": {},
   "outputs": [],
   "source": [
    "# Step 3: Create holiday flag features for Super Bowl, Labor Day, Thanksgiving, and Christmas\n",
    "# These flags identify weeks with major holidays known to impact sales significantly\n",
    "# Adding these features helps the model capture important seasonal effects and promotional periods"
   ]
  },
  {
   "cell_type": "code",
   "execution_count": 18,
   "id": "ef964475-032c-48fb-8f09-03243599d96b",
   "metadata": {},
   "outputs": [
    {
     "name": "stderr",
     "output_type": "stream",
     "text": [
      "/var/folders/91/01r863q91sz9mhh3gsvm_d640000gn/T/ipykernel_15828/4033445276.py:7: SettingWithCopyWarning: \n",
      "A value is trying to be set on a copy of a slice from a DataFrame.\n",
      "Try using .loc[row_indexer,col_indexer] = value instead\n",
      "\n",
      "See the caveats in the documentation: https://pandas.pydata.org/pandas-docs/stable/user_guide/indexing.html#returning-a-view-versus-a-copy\n",
      "  df['Is_SuperBowl'] = 0\n",
      "/var/folders/91/01r863q91sz9mhh3gsvm_d640000gn/T/ipykernel_15828/4033445276.py:8: SettingWithCopyWarning: \n",
      "A value is trying to be set on a copy of a slice from a DataFrame.\n",
      "Try using .loc[row_indexer,col_indexer] = value instead\n",
      "\n",
      "See the caveats in the documentation: https://pandas.pydata.org/pandas-docs/stable/user_guide/indexing.html#returning-a-view-versus-a-copy\n",
      "  df['Is_LaborDay'] = 0\n",
      "/var/folders/91/01r863q91sz9mhh3gsvm_d640000gn/T/ipykernel_15828/4033445276.py:9: SettingWithCopyWarning: \n",
      "A value is trying to be set on a copy of a slice from a DataFrame.\n",
      "Try using .loc[row_indexer,col_indexer] = value instead\n",
      "\n",
      "See the caveats in the documentation: https://pandas.pydata.org/pandas-docs/stable/user_guide/indexing.html#returning-a-view-versus-a-copy\n",
      "  df['Is_Thanksgiving'] = 0\n",
      "/var/folders/91/01r863q91sz9mhh3gsvm_d640000gn/T/ipykernel_15828/4033445276.py:10: SettingWithCopyWarning: \n",
      "A value is trying to be set on a copy of a slice from a DataFrame.\n",
      "Try using .loc[row_indexer,col_indexer] = value instead\n",
      "\n",
      "See the caveats in the documentation: https://pandas.pydata.org/pandas-docs/stable/user_guide/indexing.html#returning-a-view-versus-a-copy\n",
      "  df['Is_Christmas'] = 0\n"
     ]
    }
   ],
   "source": [
    "superbowl_dates = pd.to_datetime(['2010-02-12', '2011-02-11', '2012-02-10', '2013-02-08'])\n",
    "laborday_dates = pd.to_datetime(['2010-09-10', '2011-09-09', '2012-09-07', '2013-09-06'])\n",
    "thanksgiving_dates = pd.to_datetime(['2010-11-26', '2011-11-25', '2012-11-23', '2013-11-29'])\n",
    "christmas_dates = pd.to_datetime(['2010-12-31', '2011-12-30', '2012-12-28', '2013-12-27'])\n",
    "\n",
    "# Create new columns initialized with 0\n",
    "df['Is_SuperBowl'] = 0\n",
    "df['Is_LaborDay'] = 0\n",
    "df['Is_Thanksgiving'] = 0\n",
    "df['Is_Christmas'] = 0\n",
    "\n",
    "# Mark holiday weeks\n",
    "df.loc[df['Date'].isin(superbowl_dates), 'Is_SuperBowl'] = 1\n",
    "df.loc[df['Date'].isin(laborday_dates), 'Is_LaborDay'] = 1\n",
    "df.loc[df['Date'].isin(thanksgiving_dates), 'Is_Thanksgiving'] = 1\n",
    "df.loc[df['Date'].isin(christmas_dates), 'Is_Christmas'] = 1"
   ]
  },
  {
   "cell_type": "code",
   "execution_count": 20,
   "id": "e69fdf20-d0b1-4143-9703-99f82ac704b7",
   "metadata": {},
   "outputs": [
    {
     "name": "stderr",
     "output_type": "stream",
     "text": [
      "\u001b[31m2025/08/01 01:28:00 WARNING mlflow.models.model: Model logged without a signature and input example. Please set `input_example` parameter when logging the model to auto infer the model signature.\u001b[0m\n"
     ]
    },
    {
     "name": "stdout",
     "output_type": "stream",
     "text": [
      "Step 3 MAE: 1050.0214\n",
      "🏃 View run Step3_Add_Holiday_Flags at: https://dagshub.com/TomC333/ml-walmart-recruiting.mlflow/#/experiments/8/runs/b47dc9bcd1bd4aa4a83f01890ad29a46\n",
      "🧪 View experiment at: https://dagshub.com/TomC333/ml-walmart-recruiting.mlflow/#/experiments/8\n"
     ]
    }
   ],
   "source": [
    "features_step3 = [\n",
    "    'Store', 'Dept', 'IsHoliday',\n",
    "    'Year', 'Month', 'Week', 'Quarter',\n",
    "    'Weekly_Sales_lag_1', 'Weekly_Sales_lag_2', 'Weekly_Sales_lag_3', 'Weekly_Sales_lag_4', 'Weekly_Sales_lag_52',\n",
    "    'Is_SuperBowl', 'Is_LaborDay', 'Is_Thanksgiving', 'Is_Christmas'\n",
    "]\n",
    "\n",
    "X = df[features_step3]\n",
    "y = df['Weekly_Sales']\n",
    "\n",
    "with mlflow.start_run(run_name=\"Step3_Add_Holiday_Flags\"):\n",
    "    lgb_train = lgb.Dataset(X, label=y)\n",
    "    params = {\n",
    "        'objective': 'regression',\n",
    "        'metric': 'mae',\n",
    "        'random_state': 42,\n",
    "        'verbosity': -1,\n",
    "    }\n",
    "    model = lgb.train(params, lgb_train, num_boost_round=1000)\n",
    "    \n",
    "    preds = model.predict(X)\n",
    "    mae = mean_absolute_error(y, preds)\n",
    "    \n",
    "    mlflow.log_params(params)\n",
    "    mlflow.log_metric(\"MAE\", mae)\n",
    "    mlflow.lightgbm.log_model(model, \"model\")\n",
    "    \n",
    "    print(f\"Step 3 MAE: {mae:.4f}\")\n"
   ]
  },
  {
   "cell_type": "markdown",
   "id": "af90fbad-c6be-49ec-a7db-280f8d30146d",
   "metadata": {},
   "source": [
    "# Step 4, more lag features"
   ]
  },
  {
   "cell_type": "code",
   "execution_count": 24,
   "id": "9e3379e1-83f7-4ec6-8939-125b71b9098f",
   "metadata": {},
   "outputs": [],
   "source": [
    "# Step 4: Created external lag features (lags 1 and 2) for Temperature, Fuel_Price, CPI, and Unemployment \n",
    "# to capture delayed economic and environmental effects on sales."
   ]
  },
  {
   "cell_type": "code",
   "execution_count": null,
   "id": "a85271e1-a20a-4c8e-bcda-14657d512860",
   "metadata": {},
   "outputs": [],
   "source": [
    "external_cols = ['Temperature', 'Fuel_Price', 'CPI', 'Unemployment']\n",
    "\n",
    "for col in external_cols:\n",
    "    df[f'{col}_lag_1'] = df.groupby('Store')[col].shift(1)\n",
    "    df[f'{col}_lag_2'] = df.groupby('Store')[col].shift(2)\n",
    "\n",
    "df = df.dropna(subset=[f'{col}_lag_1' for col in external_cols] + [f'{col}_lag_2' for col in external_cols])"
   ]
  },
  {
   "cell_type": "code",
   "execution_count": 23,
   "id": "2d9fd3b5-74ae-4ad3-b825-1f3d28766e8c",
   "metadata": {},
   "outputs": [
    {
     "name": "stderr",
     "output_type": "stream",
     "text": [
      "\u001b[31m2025/08/01 01:33:37 WARNING mlflow.models.model: Model logged without a signature and input example. Please set `input_example` parameter when logging the model to auto infer the model signature.\u001b[0m\n"
     ]
    },
    {
     "name": "stdout",
     "output_type": "stream",
     "text": [
      "Step 4 MAE: 1018.8404\n",
      "🏃 View run Step4_Add_External_Lag_Features at: https://dagshub.com/TomC333/ml-walmart-recruiting.mlflow/#/experiments/8/runs/25b219eec8024ebca5d7d1ed8ab4f47a\n",
      "🧪 View experiment at: https://dagshub.com/TomC333/ml-walmart-recruiting.mlflow/#/experiments/8\n"
     ]
    }
   ],
   "source": [
    "features_step4 = [\n",
    "    'Store', 'Dept', 'IsHoliday',\n",
    "    'Year', 'Month', 'Week', 'Quarter',\n",
    "    'Weekly_Sales_lag_1', 'Weekly_Sales_lag_2', 'Weekly_Sales_lag_3', 'Weekly_Sales_lag_4', 'Weekly_Sales_lag_52',\n",
    "    'Is_SuperBowl', 'Is_LaborDay', 'Is_Thanksgiving', 'Is_Christmas',\n",
    "    'Temperature_lag_1', 'Fuel_Price_lag_1', 'CPI_lag_1', 'Unemployment_lag_1',\n",
    "    'Temperature_lag_2', 'Fuel_Price_lag_2', 'CPI_lag_2', 'Unemployment_lag_2'\n",
    "]\n",
    "\n",
    "X = df[features_step4]\n",
    "y = df['Weekly_Sales']\n",
    "\n",
    "with mlflow.start_run(run_name=\"Step4_Add_External_Lag_Features\"):\n",
    "    lgb_train = lgb.Dataset(X, label=y)\n",
    "    params = {\n",
    "        'objective': 'regression',\n",
    "        'metric': 'mae',\n",
    "        'random_state': 42,\n",
    "        'verbosity': -1,\n",
    "    }\n",
    "    model = lgb.train(params, lgb_train, num_boost_round=1000)\n",
    "\n",
    "    preds = model.predict(X)\n",
    "    mae = mean_absolute_error(y, preds)\n",
    "\n",
    "    mlflow.log_params(params)\n",
    "    mlflow.log_metric(\"MAE\", mae)\n",
    "    mlflow.lightgbm.log_model(model, \"model\")\n",
    "\n",
    "    print(f\"Step 4 MAE: {mae:.4f}\")\n"
   ]
  },
  {
   "cell_type": "markdown",
   "id": "966d491b-c61d-4bae-b4f3-4ea73c0646e9",
   "metadata": {},
   "source": [
    "# Step 5"
   ]
  },
  {
   "cell_type": "code",
   "execution_count": 26,
   "id": "ee717695-323e-4988-88e8-5975534dd4a0",
   "metadata": {},
   "outputs": [],
   "source": [
    "# Step 5: Added change and percentage change features for Fuel_Price, CPI, and Unemployment\n",
    "# to model trends and recent momentum in economic indicators impacting sales."
   ]
  },
  {
   "cell_type": "code",
   "execution_count": 25,
   "id": "a73a6bf3-503f-4a6a-9155-32f7e1927a60",
   "metadata": {},
   "outputs": [
    {
     "name": "stderr",
     "output_type": "stream",
     "text": [
      "/var/folders/91/01r863q91sz9mhh3gsvm_d640000gn/T/ipykernel_15828/3589856654.py:4: SettingWithCopyWarning: \n",
      "A value is trying to be set on a copy of a slice from a DataFrame.\n",
      "Try using .loc[row_indexer,col_indexer] = value instead\n",
      "\n",
      "See the caveats in the documentation: https://pandas.pydata.org/pandas-docs/stable/user_guide/indexing.html#returning-a-view-versus-a-copy\n",
      "  df[f'{col}_change'] = df.groupby('Store')[col].diff(1)\n",
      "/var/folders/91/01r863q91sz9mhh3gsvm_d640000gn/T/ipykernel_15828/3589856654.py:5: SettingWithCopyWarning: \n",
      "A value is trying to be set on a copy of a slice from a DataFrame.\n",
      "Try using .loc[row_indexer,col_indexer] = value instead\n",
      "\n",
      "See the caveats in the documentation: https://pandas.pydata.org/pandas-docs/stable/user_guide/indexing.html#returning-a-view-versus-a-copy\n",
      "  df[f'{col}_pct_change'] = df.groupby('Store')[col].pct_change(1)\n",
      "/var/folders/91/01r863q91sz9mhh3gsvm_d640000gn/T/ipykernel_15828/3589856654.py:4: SettingWithCopyWarning: \n",
      "A value is trying to be set on a copy of a slice from a DataFrame.\n",
      "Try using .loc[row_indexer,col_indexer] = value instead\n",
      "\n",
      "See the caveats in the documentation: https://pandas.pydata.org/pandas-docs/stable/user_guide/indexing.html#returning-a-view-versus-a-copy\n",
      "  df[f'{col}_change'] = df.groupby('Store')[col].diff(1)\n",
      "/var/folders/91/01r863q91sz9mhh3gsvm_d640000gn/T/ipykernel_15828/3589856654.py:5: SettingWithCopyWarning: \n",
      "A value is trying to be set on a copy of a slice from a DataFrame.\n",
      "Try using .loc[row_indexer,col_indexer] = value instead\n",
      "\n",
      "See the caveats in the documentation: https://pandas.pydata.org/pandas-docs/stable/user_guide/indexing.html#returning-a-view-versus-a-copy\n",
      "  df[f'{col}_pct_change'] = df.groupby('Store')[col].pct_change(1)\n",
      "/var/folders/91/01r863q91sz9mhh3gsvm_d640000gn/T/ipykernel_15828/3589856654.py:4: SettingWithCopyWarning: \n",
      "A value is trying to be set on a copy of a slice from a DataFrame.\n",
      "Try using .loc[row_indexer,col_indexer] = value instead\n",
      "\n",
      "See the caveats in the documentation: https://pandas.pydata.org/pandas-docs/stable/user_guide/indexing.html#returning-a-view-versus-a-copy\n",
      "  df[f'{col}_change'] = df.groupby('Store')[col].diff(1)\n",
      "/var/folders/91/01r863q91sz9mhh3gsvm_d640000gn/T/ipykernel_15828/3589856654.py:5: SettingWithCopyWarning: \n",
      "A value is trying to be set on a copy of a slice from a DataFrame.\n",
      "Try using .loc[row_indexer,col_indexer] = value instead\n",
      "\n",
      "See the caveats in the documentation: https://pandas.pydata.org/pandas-docs/stable/user_guide/indexing.html#returning-a-view-versus-a-copy\n",
      "  df[f'{col}_pct_change'] = df.groupby('Store')[col].pct_change(1)\n"
     ]
    }
   ],
   "source": [
    "change_cols = ['Fuel_Price', 'CPI', 'Unemployment']\n",
    "\n",
    "for col in change_cols:\n",
    "    df[f'{col}_change'] = df.groupby('Store')[col].diff(1)\n",
    "    df[f'{col}_pct_change'] = df.groupby('Store')[col].pct_change(1)\n",
    "    \n",
    "df = df.dropna(subset=[f'{col}_change' for col in change_cols] + [f'{col}_pct_change' for col in change_cols])"
   ]
  },
  {
   "cell_type": "code",
   "execution_count": 27,
   "id": "20af2ed5-8596-475d-b7bd-d8e7b21e3774",
   "metadata": {},
   "outputs": [
    {
     "name": "stderr",
     "output_type": "stream",
     "text": [
      "\u001b[31m2025/08/01 01:35:40 WARNING mlflow.models.model: Model logged without a signature and input example. Please set `input_example` parameter when logging the model to auto infer the model signature.\u001b[0m\n"
     ]
    },
    {
     "name": "stdout",
     "output_type": "stream",
     "text": [
      "Step 5 MAE: 1014.7050\n",
      "🏃 View run Step5_Add_Change_Features at: https://dagshub.com/TomC333/ml-walmart-recruiting.mlflow/#/experiments/8/runs/690917014c104d4aa808862974b31417\n",
      "🧪 View experiment at: https://dagshub.com/TomC333/ml-walmart-recruiting.mlflow/#/experiments/8\n"
     ]
    }
   ],
   "source": [
    "features_step5 = features_step4 + [\n",
    "    'Fuel_Price_change', 'Fuel_Price_pct_change',\n",
    "    'CPI_change', 'CPI_pct_change',\n",
    "    'Unemployment_change', 'Unemployment_pct_change'\n",
    "]\n",
    "\n",
    "X = df[features_step5]\n",
    "y = df['Weekly_Sales']\n",
    "\n",
    "with mlflow.start_run(run_name=\"Step5_Add_Change_Features\"):\n",
    "    lgb_train = lgb.Dataset(X, label=y)\n",
    "    params = {\n",
    "        'objective': 'regression',\n",
    "        'metric': 'mae',\n",
    "        'random_state': 42,\n",
    "        'verbosity': -1,\n",
    "    }\n",
    "    model = lgb.train(params, lgb_train, num_boost_round=1000)\n",
    "\n",
    "    preds = model.predict(X)\n",
    "    mae = mean_absolute_error(y, preds)\n",
    "\n",
    "    mlflow.log_params(params)\n",
    "    mlflow.log_metric(\"MAE\", mae)\n",
    "    mlflow.lightgbm.log_model(model, \"model\")\n",
    "\n",
    "    print(f\"Step 5 MAE: {mae:.4f}\")"
   ]
  },
  {
   "cell_type": "markdown",
   "id": "29936fb5-e550-499e-b85e-ee6c281350ba",
   "metadata": {},
   "source": [
    "# Log the best model"
   ]
  },
  {
   "cell_type": "code",
   "execution_count": 35,
   "id": "3475702f-f4d5-4ae2-9748-b5976ead331f",
   "metadata": {},
   "outputs": [],
   "source": [
    "from mlflow.tracking import MlflowClient\n",
    "\n",
    "def log_the_model(run_id, description):\n",
    "    client = MlflowClient()\n",
    "    \n",
    "    model_uri = f\"runs:/{run_id}/model\"\n",
    "    model_name = \"Best_LightGBM_Model\"\n",
    "    \n",
    "    try:\n",
    "        client.create_registered_model(model_name)\n",
    "    except mlflow.exceptions.RestException:\n",
    "        pass  \n",
    "    \n",
    "    client.create_model_version(\n",
    "        name=model_name,\n",
    "        source=model_uri,\n",
    "        run_id=run_id,\n",
    "        # description=\"Final Step 5 LightGBM model with all engineered features\"\n",
    "        description=description\n",
    "    )\n"
   ]
  },
  {
   "cell_type": "markdown",
   "id": "7cb56253-1eb4-4a79-aea9-299d02c53a87",
   "metadata": {},
   "source": [
    "# Step 6, Fix overfitting problem"
   ]
  },
  {
   "cell_type": "code",
   "execution_count": 34,
   "id": "275dbcb7-18d7-4129-8dec-7072d5be3418",
   "metadata": {},
   "outputs": [
    {
     "name": "stdout",
     "output_type": "stream",
     "text": [
      "Train dates: 2011-02-04 00:00:00 → 2012-06-29 00:00:00\n",
      "Val dates:   2012-06-29 00:00:00 → 2012-10-26 00:00:00\n"
     ]
    },
    {
     "name": "stderr",
     "output_type": "stream",
     "text": [
      "\u001b[31m2025/08/01 10:06:44 WARNING mlflow.models.model: Model logged without a signature and input example. Please set `input_example` parameter when logging the model to auto infer the model signature.\u001b[0m\n"
     ]
    },
    {
     "name": "stdout",
     "output_type": "stream",
     "text": [
      "Step 6 MAE: 1265.4014\n",
      "🏃 View run Step6_Add_Reduce_Overfitting at: https://dagshub.com/TomC333/ml-walmart-recruiting.mlflow/#/experiments/8/runs/e0aeee4b596a4c769211a2637e057511\n",
      "🧪 View experiment at: https://dagshub.com/TomC333/ml-walmart-recruiting.mlflow/#/experiments/8\n"
     ]
    }
   ],
   "source": [
    "features = [\n",
    "    'Store', 'Dept',\n",
    "    'IsHoliday', 'Month',\n",
    "    'Weekly_Sales_lag_1', 'Weekly_Sales_lag_52',\n",
    "    'CPI_lag_1', 'Unemployment_lag_1'\n",
    "]\n",
    "\n",
    "X = df[features]\n",
    "y = df['Weekly_Sales']\n",
    "\n",
    "df = df.sort_values(\"Date\").reset_index(drop=True)\n",
    "\n",
    "split_index = int(len(df) * 0.8)\n",
    "\n",
    "X_train = X.iloc[:split_index]\n",
    "y_train = y.iloc[:split_index]\n",
    "\n",
    "X_val = X.iloc[split_index:]\n",
    "y_val = y.iloc[split_index:]\n",
    "\n",
    "print(f\"Train dates: {df.iloc[:split_index]['Date'].min()} → {df.iloc[:split_index]['Date'].max()}\")\n",
    "print(f\"Val dates:   {df.iloc[split_index:]['Date'].min()} → {df.iloc[split_index:]['Date'].max()}\")\n",
    "\n",
    "train_data = lgb.Dataset(X_train, label=y_train)\n",
    "val_data = lgb.Dataset(X_val, label=y_val)\n",
    "\n",
    "params = {\n",
    "    'objective': 'regression',\n",
    "    'metric': 'mae',\n",
    "    'boosting_type': 'gbdt',\n",
    "    'learning_rate': 0.05,\n",
    "    'num_leaves': 31,\n",
    "    'feature_fraction': 0.9,\n",
    "    'bagging_fraction': 0.8,\n",
    "    'bagging_freq': 5,\n",
    "    'verbosity': -1,\n",
    "    'seed': 42\n",
    "}\n",
    "\n",
    "\n",
    "with mlflow.start_run(run_name=\"Step6_Add_Reduce_Overfitting\"):\n",
    "    mlflow.log_params(params)\n",
    "\n",
    "    model = lgb.train(\n",
    "        params,\n",
    "        train_data,\n",
    "        valid_sets=[train_data, val_data],\n",
    "        valid_names=[\"train\", \"val\"],\n",
    "        num_boost_round=1000,\n",
    "    )\n",
    "\n",
    "    y_pred = model.predict(X_val)\n",
    "    mae = mean_absolute_error(y_val, y_pred)\n",
    "    \n",
    "    mlflow.log_params(params)\n",
    "    mlflow.log_metric(\"MAE\", mae)\n",
    "    mlflow.lightgbm.log_model(model, \"model\")\n",
    "\n",
    "    print(f\"Step 6 MAE: {mae:.4f}\")\n"
   ]
  },
  {
   "cell_type": "markdown",
   "id": "ec5d7504-90f0-4dfc-8c13-a49e58bba771",
   "metadata": {},
   "source": [
    " # step 7, remove weekly sales lag features"
   ]
  },
  {
   "cell_type": "code",
   "execution_count": 40,
   "id": "b90f87db-345b-402c-a842-a237c31e6725",
   "metadata": {},
   "outputs": [
    {
     "name": "stdout",
     "output_type": "stream",
     "text": [
      "Train dates: 2011-02-04 00:00:00 → 2012-06-29 00:00:00\n",
      "Val dates:   2012-06-29 00:00:00 → 2012-10-26 00:00:00\n"
     ]
    },
    {
     "name": "stderr",
     "output_type": "stream",
     "text": [
      "\u001b[31m2025/08/01 10:35:15 WARNING mlflow.models.model: Model logged without a signature and input example. Please set `input_example` parameter when logging the model to auto infer the model signature.\u001b[0m\n"
     ]
    },
    {
     "name": "stdout",
     "output_type": "stream",
     "text": [
      "Step 7 MAE: 3540.5725\n",
      "🏃 View run Step7_Add_Reduce_Overfitting at: https://dagshub.com/TomC333/ml-walmart-recruiting.mlflow/#/experiments/8/runs/cbdf83d626af46089fa08be33e0486d4\n",
      "🧪 View experiment at: https://dagshub.com/TomC333/ml-walmart-recruiting.mlflow/#/experiments/8\n"
     ]
    }
   ],
   "source": [
    "features = [\n",
    "    'Store', 'Dept', 'IsHoliday', 'Month',\n",
    "    'CPI_lag_1', 'Unemployment_lag_1',\n",
    "]\n",
    "\n",
    "X = df[features]\n",
    "y = df['Weekly_Sales']\n",
    "\n",
    "df = df.sort_values(\"Date\").reset_index(drop=True)\n",
    "\n",
    "split_index = int(len(df) * 0.8)\n",
    "\n",
    "X_train = X.iloc[:split_index]\n",
    "y_train = y.iloc[:split_index]\n",
    "\n",
    "X_val = X.iloc[split_index:]\n",
    "y_val = y.iloc[split_index:]\n",
    "\n",
    "print(f\"Train dates: {df.iloc[:split_index]['Date'].min()} → {df.iloc[:split_index]['Date'].max()}\")\n",
    "print(f\"Val dates:   {df.iloc[split_index:]['Date'].min()} → {df.iloc[split_index:]['Date'].max()}\")\n",
    "\n",
    "train_data = lgb.Dataset(X_train, label=y_train)\n",
    "val_data = lgb.Dataset(X_val, label=y_val)\n",
    "\n",
    "params = {\n",
    "    'objective': 'regression',\n",
    "    'metric': 'mae',\n",
    "    'boosting_type': 'gbdt',\n",
    "    'learning_rate': 0.05,\n",
    "    'num_leaves': 31,\n",
    "    'feature_fraction': 0.9,\n",
    "    'bagging_fraction': 0.8,\n",
    "    'bagging_freq': 5,\n",
    "    'verbosity': -1,\n",
    "    'seed': 42\n",
    "}\n",
    "\n",
    "\n",
    "with mlflow.start_run(run_name=\"Step7_Add_Reduce_Overfitting\"):\n",
    "    mlflow.log_params(params)\n",
    "\n",
    "    model = lgb.train(\n",
    "        params,\n",
    "        train_data,\n",
    "        valid_sets=[train_data, val_data],\n",
    "        valid_names=[\"train\", \"val\"],\n",
    "        num_boost_round=1000,\n",
    "    )\n",
    "\n",
    "    y_pred = model.predict(X_val)\n",
    "    mae = mean_absolute_error(y_val, y_pred)\n",
    "    \n",
    "    mlflow.log_params(params)\n",
    "    mlflow.log_metric(\"MAE\", mae)\n",
    "    mlflow.lightgbm.log_model(model, \"model\")\n",
    "\n",
    "    print(f\"Step 7 MAE: {mae:.4f}\")\n"
   ]
  },
  {
   "cell_type": "code",
   "execution_count": 39,
   "id": "2b5c900f-f8aa-47c5-ba71-5abd84a18ae4",
   "metadata": {},
   "outputs": [
    {
     "name": "stderr",
     "output_type": "stream",
     "text": [
      "2025/08/01 10:23:15 INFO mlflow.store.model_registry.abstract_store: Waiting up to 300 seconds for model version to finish creation. Model name: Best_LightGBM_Model, version 3\n"
     ]
    }
   ],
   "source": [
    "log_the_model(\"ee23519b1a20488a92937e5cc5359773\", \"Step 7 LightGBM model\")"
   ]
  },
  {
   "cell_type": "markdown",
   "id": "f93fac4f-d0d6-42cf-a7c9-39ae2c28261b",
   "metadata": {},
   "source": [
    "# Step 8, remove CPI, Unemployment "
   ]
  },
  {
   "cell_type": "code",
   "execution_count": 41,
   "id": "54cae5e5-ddc9-4770-a02e-69d2bf9f5d36",
   "metadata": {},
   "outputs": [
    {
     "name": "stdout",
     "output_type": "stream",
     "text": [
      "Train dates: 2011-02-04 00:00:00 → 2012-06-29 00:00:00\n",
      "Val dates:   2012-06-29 00:00:00 → 2012-10-26 00:00:00\n"
     ]
    },
    {
     "name": "stderr",
     "output_type": "stream",
     "text": [
      "\u001b[31m2025/08/01 10:38:35 WARNING mlflow.models.model: Model logged without a signature and input example. Please set `input_example` parameter when logging the model to auto infer the model signature.\u001b[0m\n"
     ]
    },
    {
     "name": "stdout",
     "output_type": "stream",
     "text": [
      "Step 7 MAE: 2766.1741\n",
      "🏃 View run Step8_No_Lags_No_CPI_Unemployment at: https://dagshub.com/TomC333/ml-walmart-recruiting.mlflow/#/experiments/8/runs/c4270f08487c43cf8c6836b739b90f78\n",
      "🧪 View experiment at: https://dagshub.com/TomC333/ml-walmart-recruiting.mlflow/#/experiments/8\n"
     ]
    }
   ],
   "source": [
    "features = [\n",
    "    'Store', 'Dept', 'IsHoliday', 'Month', 'Year', 'Week', 'Quarter',\n",
    "    'Temperature', 'Fuel_Price', 'Size',\n",
    "    'Type',\n",
    "    'Is_SuperBowl', 'Is_LaborDay', 'Is_Thanksgiving', 'Is_Christmas',\n",
    "    'MarkDown1', 'MarkDown2', 'MarkDown3', 'MarkDown4', 'MarkDown5',\n",
    "]\n",
    "\n",
    "for col in ['MarkDown1', 'MarkDown2', 'MarkDown3', 'MarkDown4', 'MarkDown5']:\n",
    "    if col in df.columns:\n",
    "        df[col] = df[col].fillna(0)\n",
    "\n",
    "df['Type'] = df['Type'].astype('category')\n",
    "\n",
    "X = df[features]\n",
    "y = df['Weekly_Sales']\n",
    "\n",
    "df = df.sort_values(\"Date\").reset_index(drop=True)\n",
    "\n",
    "split_index = int(len(df) * 0.8)\n",
    "X_train = X.iloc[:split_index]\n",
    "y_train = y.iloc[:split_index]\n",
    "X_val = X.iloc[split_index:]\n",
    "y_val = y.iloc[split_index:]\n",
    "\n",
    "print(f\"Train dates: {df.iloc[:split_index]['Date'].min()} → {df.iloc[:split_index]['Date'].max()}\")\n",
    "print(f\"Val dates:   {df.iloc[split_index:]['Date'].min()} → {df.iloc[split_index:]['Date'].max()}\")\n",
    "\n",
    "train_data = lgb.Dataset(X_train, label=y_train, categorical_feature=['Type'])\n",
    "val_data = lgb.Dataset(X_val, label=y_val, categorical_feature=['Type'])\n",
    "\n",
    "params = {\n",
    "    'objective': 'regression',\n",
    "    'metric': 'mae',\n",
    "    'boosting_type': 'gbdt',\n",
    "    'learning_rate': 0.05,\n",
    "    'num_leaves': 31,\n",
    "    'feature_fraction': 0.9,\n",
    "    'bagging_fraction': 0.8,\n",
    "    'bagging_freq': 5,\n",
    "    'verbosity': -1,\n",
    "    'seed': 42\n",
    "}\n",
    "\n",
    "with mlflow.start_run(run_name=\"Step8_No_Lags_No_CPI_Unemployment\"):\n",
    "    mlflow.log_params(params)\n",
    "\n",
    "    model = lgb.train(\n",
    "        params,\n",
    "        train_data,\n",
    "        valid_sets=[train_data, val_data],\n",
    "        valid_names=[\"train\", \"val\"],\n",
    "        num_boost_round=1000,\n",
    "    )\n",
    "\n",
    "    y_pred = model.predict(X_val)\n",
    "    mae = mean_absolute_error(y_val, y_pred)\n",
    "\n",
    "    mlflow.log_params(params)\n",
    "    mlflow.log_metric(\"MAE\", mae)\n",
    "    mlflow.lightgbm.log_model(model, \"model\")\n",
    "\n",
    "    print(f\"Step 7 MAE: {mae:.4f}\")"
   ]
  },
  {
   "cell_type": "code",
   "execution_count": 42,
   "id": "67cbc11f-dcf5-4ea3-84f9-bd166eafe6ec",
   "metadata": {},
   "outputs": [
    {
     "name": "stderr",
     "output_type": "stream",
     "text": [
      "2025/08/01 10:40:14 INFO mlflow.store.model_registry.abstract_store: Waiting up to 300 seconds for model version to finish creation. Model name: Best_LightGBM_Model, version 4\n"
     ]
    }
   ],
   "source": [
    "log_the_model(\"c4270f08487c43cf8c6836b739b90f78\", \"Step 8 LightGBM model\")"
   ]
  },
  {
   "cell_type": "markdown",
   "id": "98a33e12-3ad3-4339-9a90-bc95552c16a2",
   "metadata": {},
   "source": [
    "# store merged train DF "
   ]
  },
  {
   "cell_type": "code",
   "execution_count": 29,
   "id": "8e7f7cd3-5164-432e-a8a2-f69c8456d737",
   "metadata": {},
   "outputs": [
    {
     "name": "stdout",
     "output_type": "stream",
     "text": [
      "Saved and logged train merged dataframe at train_merged_full.csv\n"
     ]
    }
   ],
   "source": [
    "import os\n",
    "\n",
    "df_path = \"train_merged_full.csv\"\n",
    "df.to_csv(df_path, index=False)\n",
    "\n",
    "print(f\"Saved and logged train merged dataframe at {df_path}\")\n"
   ]
  },
  {
   "cell_type": "code",
   "execution_count": null,
   "id": "0cda8080-b05a-4887-9ccd-01f7ffd77de6",
   "metadata": {},
   "outputs": [],
   "source": [
    "dagshub.init(repo_owner='TomC333', repo_name='ml-walmart-recruiting', mlflow=True\n",
    "model_name = \"Best_LightGBM_Model\"\n",
    "model_uri = f\"models:/{model_name}/latest\"\n",
    "\n",
    "model = mlflow.lightgbm.load_model(model_uri)\n"
   ]
  }
 ],
 "metadata": {
  "kernelspec": {
   "display_name": "Python 3 (ipykernel)",
   "language": "python",
   "name": "python3"
  },
  "language_info": {
   "codemirror_mode": {
    "name": "ipython",
    "version": 3
   },
   "file_extension": ".py",
   "mimetype": "text/x-python",
   "name": "python",
   "nbconvert_exporter": "python",
   "pygments_lexer": "ipython3",
   "version": "3.12.7"
  }
 },
 "nbformat": 4,
 "nbformat_minor": 5
}
