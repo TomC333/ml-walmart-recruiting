{
 "cells": [
  {
   "cell_type": "code",
   "execution_count": 5,
   "id": "b93ae2f9-da5b-4ea7-bfdc-87d80f0bcca8",
   "metadata": {},
   "outputs": [
    {
     "data": {
      "text/html": [
       "<pre style=\"white-space:pre;overflow-x:auto;line-height:normal;font-family:Menlo,'DejaVu Sans Mono',consolas,'Courier New',monospace\">Initialized MLflow to track repo <span style=\"color: #008000; text-decoration-color: #008000\">\"TomC333/ml-walmart-recruiting\"</span>\n",
       "</pre>\n"
      ],
      "text/plain": [
       "Initialized MLflow to track repo \u001b[32m\"TomC333/ml-walmart-recruiting\"\u001b[0m\n"
      ]
     },
     "metadata": {},
     "output_type": "display_data"
    },
    {
     "data": {
      "text/html": [
       "<pre style=\"white-space:pre;overflow-x:auto;line-height:normal;font-family:Menlo,'DejaVu Sans Mono',consolas,'Courier New',monospace\">Repository TomC333/ml-walmart-recruiting initialized!\n",
       "</pre>\n"
      ],
      "text/plain": [
       "Repository TomC333/ml-walmart-recruiting initialized!\n"
      ]
     },
     "metadata": {},
     "output_type": "display_data"
    },
    {
     "data": {
      "application/vnd.jupyter.widget-view+json": {
       "model_id": "b280e38214ca4b458f6f29a91480363e",
       "version_major": 2,
       "version_minor": 0
      },
      "text/plain": [
       "Downloading artifacts:   0%|          | 0/5 [00:00<?, ?it/s]"
      ]
     },
     "metadata": {},
     "output_type": "display_data"
    },
    {
     "name": "stdout",
     "output_type": "stream",
     "text": [
      "Random Forest Step 2 inference complete. submission_rf_step2.csv saved.\n"
     ]
    }
   ],
   "source": [
    "import pandas as pd\n",
    "import numpy as np\n",
    "import mlflow\n",
    "import dagshub\n",
    "from sklearn.preprocessing import LabelEncoder\n",
    "from mlflow.tracking import MlflowClient\n",
    "\n",
    "dagshub.init(repo_owner='TomC333', repo_name='ml-walmart-recruiting', mlflow=True)\n",
    "model_name = \"Best_RandomForest_Model\"\n",
    "model_uri = f\"models:/{model_name}/latest\"\n",
    "\n",
    "model = mlflow.sklearn.load_model(model_uri)\n",
    "\n",
    "train_df = pd.read_csv('train_merged_full_rf.csv', parse_dates=['Date'])  # This is your processed training data\n",
    "test_df = pd.read_csv('data/test.csv', parse_dates=['Date'])\n",
    "features_df = pd.read_csv('data/features.csv', parse_dates=['Date'])\n",
    "stores_df = pd.read_csv('data/stores.csv')\n",
    "\n",
    "test_merged = test_df.merge(features_df, on=['Store', 'Date'], how='left')\n",
    "test_merged = test_merged.merge(stores_df, on='Store', how='left')\n",
    "\n",
    "if 'IsHoliday_y' in test_merged.columns:\n",
    "    test_merged.drop(['IsHoliday_y'], axis=1, inplace=True)\n",
    "    test_merged.rename(columns={'IsHoliday_x': 'IsHoliday'}, inplace=True)\n",
    "\n",
    "test_merged[\"Year\"] = test_merged[\"Date\"].dt.year\n",
    "test_merged[\"Month\"] = test_merged[\"Date\"].dt.month\n",
    "test_merged[\"Week\"] = test_merged[\"Date\"].dt.isocalendar().week.astype(int)\n",
    "test_merged[\"Quarter\"] = test_merged[\"Date\"].dt.quarter\n",
    "\n",
    "superbowl_dates = pd.to_datetime(['2010-02-12', '2011-02-11', '2012-02-10', '2013-02-08'])\n",
    "laborday_dates = pd.to_datetime(['2010-09-10', '2011-09-09', '2012-09-07', '2013-09-06'])\n",
    "thanksgiving_dates = pd.to_datetime(['2010-11-26', '2011-11-25', '2012-11-23', '2013-11-29'])\n",
    "christmas_dates = pd.to_datetime(['2010-12-31', '2011-12-30', '2012-12-28', '2013-12-27'])\n",
    "\n",
    "test_merged['Is_SuperBowl'] = 0\n",
    "test_merged['Is_LaborDay'] = 0\n",
    "test_merged['Is_Thanksgiving'] = 0\n",
    "test_merged['Is_Christmas'] = 0\n",
    "\n",
    "test_merged.loc[test_merged['Date'].isin(superbowl_dates), 'Is_SuperBowl'] = 1\n",
    "test_merged.loc[test_merged['Date'].isin(laborday_dates), 'Is_LaborDay'] = 1\n",
    "test_merged.loc[test_merged['Date'].isin(thanksgiving_dates), 'Is_Thanksgiving'] = 1\n",
    "test_merged.loc[test_merged['Date'].isin(christmas_dates), 'Is_Christmas'] = 1\n",
    "\n",
    "features_step2 = [\n",
    "    'Store', 'Dept', 'IsHoliday',    \n",
    "    'Month', 'Year', 'Week', 'Quarter',\n",
    "    'Is_SuperBowl', 'Is_LaborDay', 'Is_Thanksgiving', 'Is_Christmas'\n",
    "]\n",
    "\n",
    "X_pred = test_merged[features_step2].copy()\n",
    "\n",
    "for col in ['Store', 'Dept']:\n",
    "    le = LabelEncoder()\n",
    "    all_values = pd.concat([train_df[col], test_merged[col]]).unique()\n",
    "    le.fit(all_values)\n",
    "    X_pred[col] = le.transform(X_pred[col])\n",
    "\n",
    "preds = model.predict(X_pred).clip(min=0)\n",
    "\n",
    "submission = pd.DataFrame({\n",
    "    'Id': test_merged['Store'].astype(str) + '_' + \n",
    "          test_merged['Dept'].astype(str) + '_' + \n",
    "          test_merged['Date'].dt.strftime('%Y-%m-%d'),\n",
    "    'Weekly_Sales': preds\n",
    "})\n",
    "\n",
    "sample_submission = pd.read_csv('data/sampleSubmission.csv')\n",
    "submission = sample_submission[['Id']].merge(submission, on='Id', how='left')\n",
    "submission['Weekly_Sales'] = submission['Weekly_Sales'].fillna(0)\n",
    "\n",
    "submission.to_csv('submission_rf_step2.csv', index=False)\n",
    "\n",
    "print(\"Random Forest Step 2 inference complete. submission_rf_step2.csv saved.\")"
   ]
  },
  {
   "cell_type": "code",
   "execution_count": null,
   "id": "8c960087-b3c3-402b-93ab-cbc251b93dd0",
   "metadata": {},
   "outputs": [],
   "source": []
  }
 ],
 "metadata": {
  "kernelspec": {
   "display_name": "Python 3 (ipykernel)",
   "language": "python",
   "name": "python3"
  },
  "language_info": {
   "codemirror_mode": {
    "name": "ipython",
    "version": 3
   },
   "file_extension": ".py",
   "mimetype": "text/x-python",
   "name": "python",
   "nbconvert_exporter": "python",
   "pygments_lexer": "ipython3",
   "version": "3.12.7"
  }
 },
 "nbformat": 4,
 "nbformat_minor": 5
}
