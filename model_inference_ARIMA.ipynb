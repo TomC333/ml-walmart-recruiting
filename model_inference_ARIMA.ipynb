{
  "nbformat": 4,
  "nbformat_minor": 0,
  "metadata": {
    "colab": {
      "provenance": []
    },
    "kernelspec": {
      "name": "python3",
      "display_name": "Python 3"
    },
    "language_info": {
      "name": "python"
    }
  },
  "cells": [
    {
      "cell_type": "code",
      "execution_count": null,
      "metadata": {
        "id": "zyuZiNDEXXHC"
      },
      "outputs": [],
      "source": [
        "import pandas as pd"
      ]
    },
    {
      "cell_type": "code",
      "source": [
        "test_df = pd.read_csv('test.csv')\n",
        "test_df['Is_SuperBowl'] = np.where(test_df['Date'].isin(['2010-02-12', '2011-02-11', '2012-02-10', '2013-02-08']),1,0)\n",
        "test_df['Is_LaborDay'] = np.where(test_df['Date'].isin(['2010-09-10', '2011-09-09', '2012-09-07', '2013-09-06']),1,0)\n",
        "test_df['Is_Thanksgiving'] = np.where(test_df['Date'].isin(['2010-11-26', '2011-11-25', '2012-11-23', '2013-11-29']),1,0)\n",
        "test_df['Is_Christmas'] = np.where(test_df['Date'].isin(['2010-12-31', '2011-12-30', '2012-12-28', '2013-12-27']),1,0)"
      ],
      "metadata": {
        "id": "bs7MTisbXbx4"
      },
      "execution_count": null,
      "outputs": []
    },
    {
      "cell_type": "code",
      "source": [
        "import mlflow\n",
        "\n",
        "mlflow.artifacts.download_artifacts(\"mlflow-artifacts:/41361edef7c6479694d4921d6dd5803e/80248f20b4ff4c21b2b7fb0ba3989db9/artifacts/all_models.pkl\")"
      ],
      "metadata": {
        "id": "ZbShKUKOXkPr"
      },
      "execution_count": null,
      "outputs": []
    },
    {
      "cell_type": "code",
      "source": [
        "loaded_models_path = \"/tmp/tmppd3p4ti0/all_models.pkl\"\n",
        "with open(loaded_models_path, 'rb') as f:\n",
        "    loaded_models = pickle.load(f)"
      ],
      "metadata": {
        "id": "YAQk4eskXbvd"
      },
      "execution_count": null,
      "outputs": []
    },
    {
      "cell_type": "code",
      "source": [
        "\n",
        "def predict_test_data(test_df):\n",
        "    \"\"\"\n",
        "    Predict sales for test data containing Store, Dept, Date columns\n",
        "    Returns test_df with predicted sales added\n",
        "    \"\"\"\n",
        "    test_df = test_df.copy()\n",
        "    test_df['Date'] = pd.to_datetime(test_df['Date'])\n",
        "    test_df['Predicted_Sales'] = np.nan\n",
        "\n",
        "    print(f\"Making predictions for {len(test_df)} test records...\")\n",
        "\n",
        "    training_end_dates = {}\n",
        "    for model_key in loaded_models.keys():\n",
        "        store, dept = int(model_key.split('_')[1]), int(model_key.split('_')[3])\n",
        "        combo_data = df[(df['Store'] == store) & (df['Dept'] == dept)].copy()\n",
        "\n",
        "        if len(combo_data) == 0:\n",
        "            print(f\"Warning: No training data found for Store {store}, Dept {dept}\")\n",
        "            continue\n",
        "\n",
        "        combo_data['Date'] = pd.to_datetime(combo_data['Date'])\n",
        "        combo_data = combo_data.sort_values('Date')\n",
        "\n",
        "        train_size = int(len(combo_data) * TRAIN_RATIO)\n",
        "        if train_size <= 0:\n",
        "            train_size = 1\n",
        "        if train_size > len(combo_data):\n",
        "            train_size = len(combo_data)\n",
        "\n",
        "        train_end_date = combo_data.iloc[train_size-1]['Date']\n",
        "        training_end_dates[model_key] = train_end_date\n",
        "\n",
        "    successful_predictions = 0\n",
        "    failed_predictions = 0\n",
        "\n",
        "    for idx, row in test_df.iterrows():\n",
        "        store, dept, test_date = row['Store'], row['Dept'], row['Date']\n",
        "        model_key = f\"store_{store}_dept_{dept}\"\n",
        "\n",
        "        if model_key in loaded_models and model_key in training_end_dates:\n",
        "            try:\n",
        "                model = loaded_models[model_key]\n",
        "                train_end_date = training_end_dates[model_key]\n",
        "\n",
        "                days_ahead = (test_date - train_end_date).days\n",
        "\n",
        "                if days_ahead <= 0:\n",
        "                    forecast = model.forecast(steps=1)\n",
        "                    test_df.loc[idx, 'Predicted_Sales'] = forecast[0]\n",
        "                else:\n",
        "                    forecast = model.forecast(steps=days_ahead)\n",
        "                    test_df.loc[idx, 'Predicted_Sales'] = forecast[-1]\n",
        "\n",
        "                successful_predictions += 1\n",
        "\n",
        "            except Exception as e:\n",
        "                print(f\"Error predicting for Store {store}, Dept {dept}: {e}\")\n",
        "                test_df.loc[idx, 'Predicted_Sales'] = 0\n",
        "                failed_predictions += 1\n",
        "        else:\n",
        "            test_df.loc[idx, 'Predicted_Sales'] = 0\n",
        "            failed_predictions += 1\n",
        "\n",
        "    print(f\"Successful predictions: {successful_predictions}\")\n",
        "    print(f\"Failed predictions: {failed_predictions}\")\n",
        "\n",
        "    return test_df\n",
        "\n",
        "def predict_for_date(store, dept, target_date):\n",
        "    \"\"\"Predict sales for specific store-department on a specific date\"\"\"\n",
        "    model_key = f\"store_{store}_dept_{dept}\"\n",
        "\n",
        "    if model_key not in loaded_models:\n",
        "        print(f\"No model found for Store {store}, Dept {dept}\")\n",
        "        return None\n",
        "\n",
        "    model = loaded_models[model_key]\n",
        "\n",
        "    combo_data = df[(df['Store'] == store) & (df['Dept'] == dept)].copy()\n",
        "    combo_data['Date'] = pd.to_datetime(combo_data['Date'])\n",
        "    train_size = int(len(combo_data) * TRAIN_RATIO)\n",
        "    train_end_date = combo_data.sort_values('Date').iloc[train_size-1]['Date']\n",
        "\n",
        "    target_date = pd.to_datetime(target_date)\n",
        "    days_ahead = (target_date - train_end_date).days\n",
        "\n",
        "    if days_ahead <= 0:\n",
        "        print(f\"Target date {target_date} is before/same as training end date {train_end_date}\")\n",
        "        return None\n",
        "\n",
        "    forecast = model.forecast(steps=days_ahead)\n",
        "    return forecast[-1]"
      ],
      "metadata": {
        "id": "oTD4YJfZXbua"
      },
      "execution_count": null,
      "outputs": []
    },
    {
      "cell_type": "code",
      "source": [
        "predictions_df = predict_test_data(test_df)"
      ],
      "metadata": {
        "id": "zVeZIsJSXbtl"
      },
      "execution_count": null,
      "outputs": []
    },
    {
      "cell_type": "code",
      "source": [
        "predictions_df[\"Id\"] = predictions_df[\"Store\"].astype(str) + \"_\" + predictions_df[\"Dept\"].astype(str) + \"_\" + predictions_df[\"Date\"].astype(str)"
      ],
      "metadata": {
        "id": "niHQ8ILkXbsh"
      },
      "execution_count": null,
      "outputs": []
    },
    {
      "cell_type": "code",
      "source": [
        "predictions_df.rename(columns={'Predicted_Sales':'Weekly_Sales'})[['Id','Weekly_Sales']].to_csv('predictions_kaggle.csv', index=False)"
      ],
      "metadata": {
        "id": "pXwgZ3Z4Xbke"
      },
      "execution_count": null,
      "outputs": []
    },
    {
      "cell_type": "code",
      "source": [],
      "metadata": {
        "id": "oriEVN2BXbht"
      },
      "execution_count": null,
      "outputs": []
    },
    {
      "cell_type": "code",
      "source": [],
      "metadata": {
        "id": "Txs6QBxNXbeg"
      },
      "execution_count": null,
      "outputs": []
    },
    {
      "cell_type": "code",
      "source": [],
      "metadata": {
        "id": "PgIH1xWeXbZd"
      },
      "execution_count": null,
      "outputs": []
    }
  ]
}